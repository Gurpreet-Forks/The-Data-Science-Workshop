{
 "cells": [
  {
   "cell_type": "code",
   "execution_count": 1,
   "metadata": {
    "colab": {},
    "colab_type": "code",
    "id": "i0_6mTjFH-_v"
   },
   "outputs": [
    {
     "ename": "ModuleNotFoundError",
     "evalue": "No module named 'altair'",
     "output_type": "error",
     "traceback": [
      "\u001b[1;31m---------------------------------------------------------------------------\u001b[0m",
      "\u001b[1;31mModuleNotFoundError\u001b[0m                       Traceback (most recent call last)",
      "\u001b[1;32m<ipython-input-1-e562ed71a5ca>\u001b[0m in \u001b[0;36m<module>\u001b[1;34m\u001b[0m\n\u001b[0;32m      1\u001b[0m \u001b[1;32mimport\u001b[0m \u001b[0mpandas\u001b[0m \u001b[1;32mas\u001b[0m \u001b[0mpd\u001b[0m\u001b[1;33m\u001b[0m\u001b[1;33m\u001b[0m\u001b[0m\n\u001b[0;32m      2\u001b[0m \u001b[1;32mfrom\u001b[0m \u001b[0msklearn\u001b[0m\u001b[1;33m.\u001b[0m\u001b[0mcluster\u001b[0m \u001b[1;32mimport\u001b[0m \u001b[0mKMeans\u001b[0m\u001b[1;33m\u001b[0m\u001b[1;33m\u001b[0m\u001b[0m\n\u001b[1;32m----> 3\u001b[1;33m \u001b[1;32mimport\u001b[0m \u001b[0maltair\u001b[0m \u001b[1;32mas\u001b[0m \u001b[0malt\u001b[0m\u001b[1;33m\u001b[0m\u001b[1;33m\u001b[0m\u001b[0m\n\u001b[0m\u001b[0;32m      4\u001b[0m \u001b[1;32mfrom\u001b[0m \u001b[0msklearn\u001b[0m\u001b[1;33m.\u001b[0m\u001b[0mpreprocessing\u001b[0m \u001b[1;32mimport\u001b[0m \u001b[0mStandardScaler\u001b[0m\u001b[1;33m\u001b[0m\u001b[1;33m\u001b[0m\u001b[0m\n",
      "\u001b[1;31mModuleNotFoundError\u001b[0m: No module named 'altair'"
     ]
    }
   ],
   "source": [
    "import pandas as pd\n",
    "from sklearn.cluster import KMeans\n",
    "import altair as alt\n",
    "from sklearn.preprocessing import StandardScaler"
   ]
  },
  {
   "cell_type": "code",
   "execution_count": null,
   "metadata": {
    "colab": {},
    "colab_type": "code",
    "id": "pd3ELQrbIUvQ"
   },
   "outputs": [],
   "source": [
    "file_url = 'https://raw.githubusercontent.com/TrainingByPackt/The-Data-Science-Workshop/master/Chapter05/DataSet/german.data-numeric'"
   ]
  },
  {
   "cell_type": "code",
   "execution_count": null,
   "metadata": {
    "colab": {
     "base_uri": "https://localhost:8080/",
     "height": 74
    },
    "colab_type": "code",
    "executionInfo": {
     "elapsed": 955,
     "status": "ok",
     "timestamp": 1568195318258,
     "user": {
      "displayName": "Adrian Cardoza",
      "photoUrl": "",
      "userId": "13925024237489964117"
     },
     "user_tz": -330
    },
    "id": "652VWTRkIZOc",
    "outputId": "47d984db-ade0-45fb-fe1f-bcc089f3627e"
   },
   "outputs": [],
   "source": [
    "df = pd.read_csv(file_url, header=None, sep='\\s\\s+', prefix='X')"
   ]
  },
  {
   "cell_type": "code",
   "execution_count": null,
   "metadata": {
    "colab": {
     "base_uri": "https://localhost:8080/",
     "height": 206
    },
    "colab_type": "code",
    "executionInfo": {
     "elapsed": 7403,
     "status": "ok",
     "timestamp": 1568195307331,
     "user": {
      "displayName": "Adrian Cardoza",
      "photoUrl": "",
      "userId": "13925024237489964117"
     },
     "user_tz": -330
    },
    "id": "FKd0dGxfIat_",
    "outputId": "8bf6b422-e328-4510-e482-159058f6c112"
   },
   "outputs": [],
   "source": [
    "df.head()"
   ]
  },
  {
   "cell_type": "code",
   "execution_count": null,
   "metadata": {
    "colab": {},
    "colab_type": "code",
    "id": "QQs2uYP2Jpe6"
   },
   "outputs": [],
   "source": [
    "X = df[['X3', 'X9']]"
   ]
  },
  {
   "cell_type": "code",
   "execution_count": null,
   "metadata": {
    "colab": {},
    "colab_type": "code",
    "id": "A3JCcQwtK2M_"
   },
   "outputs": [],
   "source": [
    "standard_scaler = StandardScaler()\n",
    "X_scaled = standard_scaler.fit_transform(X)"
   ]
  },
  {
   "cell_type": "code",
   "execution_count": null,
   "metadata": {
    "colab": {},
    "colab_type": "code",
    "id": "FAxew7byK8_k"
   },
   "outputs": [],
   "source": [
    "clusters = pd.DataFrame()\n",
    "inertia = []"
   ]
  },
  {
   "cell_type": "code",
   "execution_count": null,
   "metadata": {
    "colab": {},
    "colab_type": "code",
    "id": "YxB1jOrUK_Ky"
   },
   "outputs": [],
   "source": [
    "clusters['cluster_range'] = range(1, 15)"
   ]
  },
  {
   "cell_type": "code",
   "execution_count": null,
   "metadata": {
    "colab": {},
    "colab_type": "code",
    "id": "Wj9qG7XWLAis"
   },
   "outputs": [],
   "source": [
    "for k in clusters['cluster_range']:\n",
    "    kmeans = KMeans(n_clusters=k, random_state=8).fit(X_scaled)\n",
    "    inertia.append(kmeans.inertia_)"
   ]
  },
  {
   "cell_type": "code",
   "execution_count": null,
   "metadata": {
    "colab": {},
    "colab_type": "code",
    "id": "n8a_y67oLCEb"
   },
   "outputs": [],
   "source": [
    "clusters['inertia'] = inertia"
   ]
  },
  {
   "cell_type": "code",
   "execution_count": null,
   "metadata": {
    "colab": {
     "base_uri": "https://localhost:8080/",
     "height": 489
    },
    "colab_type": "code",
    "executionInfo": {
     "elapsed": 8563,
     "status": "ok",
     "timestamp": 1568195308527,
     "user": {
      "displayName": "Adrian Cardoza",
      "photoUrl": "",
      "userId": "13925024237489964117"
     },
     "user_tz": -330
    },
    "id": "ChBnw2jMLDq8",
    "outputId": "7ca44596-da69-46cf-cd9e-1d25cc8b5a9b"
   },
   "outputs": [],
   "source": [
    "clusters"
   ]
  },
  {
   "cell_type": "code",
   "execution_count": null,
   "metadata": {
    "colab": {
     "base_uri": "https://localhost:8080/",
     "height": 368
    },
    "colab_type": "code",
    "executionInfo": {
     "elapsed": 8552,
     "status": "ok",
     "timestamp": 1568195308528,
     "user": {
      "displayName": "Adrian Cardoza",
      "photoUrl": "",
      "userId": "13925024237489964117"
     },
     "user_tz": -330
    },
    "id": "xm0azWh-LEwX",
    "outputId": "7ab48511-0156-4c6d-c1eb-9fac54f23102"
   },
   "outputs": [],
   "source": [
    "alt.Chart(clusters).mark_line().encode(alt.X('cluster_range'), alt.Y('inertia'))"
   ]
  },
  {
   "cell_type": "code",
   "execution_count": null,
   "metadata": {
    "colab": {},
    "colab_type": "code",
    "id": "nJF3LIAFLctS"
   },
   "outputs": [],
   "source": [
    "clusters_number = 5"
   ]
  },
  {
   "cell_type": "code",
   "execution_count": null,
   "metadata": {
    "colab": {
     "base_uri": "https://localhost:8080/",
     "height": 72
    },
    "colab_type": "code",
    "executionInfo": {
     "elapsed": 8544,
     "status": "ok",
     "timestamp": 1568195308531,
     "user": {
      "displayName": "Adrian Cardoza",
      "photoUrl": "",
      "userId": "13925024237489964117"
     },
     "user_tz": -330
    },
    "id": "gZZnYiSyL60J",
    "outputId": "e8977fe1-cf6f-4f1c-cea7-b82c929e2977"
   },
   "outputs": [],
   "source": [
    "kmeans = KMeans(random_state=1, n_clusters=clusters_number, init='k-means++', n_init=50, max_iter=1000)\n",
    "kmeans.fit(X_scaled)"
   ]
  },
  {
   "cell_type": "code",
   "execution_count": null,
   "metadata": {
    "colab": {},
    "colab_type": "code",
    "id": "klTbcYaQL8F6"
   },
   "outputs": [],
   "source": [
    "df['cluster'] = kmeans.predict(X_scaled)"
   ]
  },
  {
   "cell_type": "code",
   "execution_count": null,
   "metadata": {
    "colab": {
     "base_uri": "https://localhost:8080/",
     "height": 368
    },
    "colab_type": "code",
    "executionInfo": {
     "elapsed": 8933,
     "status": "ok",
     "timestamp": 1568195308932,
     "user": {
      "displayName": "Adrian Cardoza",
      "photoUrl": "",
      "userId": "13925024237489964117"
     },
     "user_tz": -330
    },
    "id": "IKt44R6CL9cY",
    "outputId": "c6762fd4-03d1-4e94-afe0-f87169d3b9ed"
   },
   "outputs": [],
   "source": [
    "scatter_plot = alt.Chart(df).mark_circle()\n",
    "scatter_plot.encode(x='X3', y='X9',color='cluster:N')"
   ]
  },
  {
   "cell_type": "code",
   "execution_count": null,
   "metadata": {
    "colab": {},
    "colab_type": "code",
    "id": "3_Np9pJiL-6Z"
   },
   "outputs": [],
   "source": []
  }
 ],
 "metadata": {
  "colab": {
   "name": "Activity5.1.ipynb",
   "provenance": [],
   "version": "0.3.2"
  },
  "kernelspec": {
   "display_name": "Python 3",
   "language": "python",
   "name": "python3"
  },
  "language_info": {
   "codemirror_mode": {
    "name": "ipython",
    "version": 3
   },
   "file_extension": ".py",
   "mimetype": "text/x-python",
   "name": "python",
   "nbconvert_exporter": "python",
   "pygments_lexer": "ipython3",
   "version": "3.7.3"
  }
 },
 "nbformat": 4,
 "nbformat_minor": 1
}
