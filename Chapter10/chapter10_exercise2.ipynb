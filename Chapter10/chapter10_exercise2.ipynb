{
  "nbformat": 4,
  "nbformat_minor": 0,
  "metadata": {
    "colab": {
      "name": "chapter10-exercise2.ipynb",
      "provenance": [],
      "collapsed_sections": []
    },
    "kernelspec": {
      "name": "python3",
      "display_name": "Python 3"
    }
  },
  "cells": [
    {
      "cell_type": "markdown",
      "metadata": {
        "id": "37vrnAFPW6_C",
        "colab_type": "text"
      },
      "source": [
        "#Exercise 10.02: Analyse the categorical variables from the Ames Housing dataset\n",
        "In this exercise, we will continue our dataset exploration by analysing the categorical variables of this dataset. To do so, we will implement our own describe functions.\n",
        "The dataset used for this exercise is the Ames Housing dataset compiled by Dean De Cock: http://www.amstat.org/publications/jse/v19n3/decock.pdf"
      ]
    },
    {
      "cell_type": "markdown",
      "metadata": {
        "id": "2Ox-pHUPX78-",
        "colab_type": "text"
      },
      "source": [
        "1. Open on a new Colab notebook and import the pandas package"
      ]
    },
    {
      "cell_type": "code",
      "metadata": {
        "id": "HEiOAwQPW0qb",
        "colab_type": "code",
        "colab": {}
      },
      "source": [
        "import pandas as pd"
      ],
      "execution_count": 0,
      "outputs": []
    },
    {
      "cell_type": "markdown",
      "metadata": {
        "id": "C6NbwMIwX_84",
        "colab_type": "text"
      },
      "source": [
        "2. Assign the link to the AMES dataset to a variable called 'file_url':"
      ]
    },
    {
      "cell_type": "code",
      "metadata": {
        "id": "j7whidfaYjns",
        "colab_type": "code",
        "colab": {}
      },
      "source": [
        "file_url = 'https://raw.githubusercontent.com/TrainingByPackt/The-Data-Science-Workshop/master/Chapter10/dataset/ames_iowa_housing.csv'"
      ],
      "execution_count": 0,
      "outputs": []
    },
    {
      "cell_type": "markdown",
      "metadata": {
        "id": "VzoH_wvLuD0p",
        "colab_type": "text"
      },
      "source": [
        "3. Using the read_csv method from the package pandas, load the dataset into a new variable called 'df':"
      ]
    },
    {
      "cell_type": "code",
      "metadata": {
        "id": "nFMz2jNVt-xy",
        "colab_type": "code",
        "colab": {}
      },
      "source": [
        "df = pd.read_csv(file_url)"
      ],
      "execution_count": 0,
      "outputs": []
    },
    {
      "cell_type": "markdown",
      "metadata": {
        "id": "qJ-1EVGS6yZL",
        "colab_type": "text"
      },
      "source": [
        "4. Create a new dataframe called 'obj_df' with only the columns that are of numerical types using the method select_dtypes from pandas packages and pass in the value 'number' to the parameter 'include: \n"
      ]
    },
    {
      "cell_type": "code",
      "metadata": {
        "id": "qwSvQHzZhN2q",
        "colab_type": "code",
        "colab": {}
      },
      "source": [
        "obj_df = df.select_dtypes(include='object')"
      ],
      "execution_count": 0,
      "outputs": []
    },
    {
      "cell_type": "markdown",
      "metadata": {
        "id": "eW-0FR24hJ5T",
        "colab_type": "text"
      },
      "source": [
        "\n",
        "5. Using the attribute **columns** from pandas, extract the list of columns of this dataframe 'obj_df' and assign it to a new variable called 'num_cols' and print its content:"
      ]
    },
    {
      "cell_type": "markdown",
      "metadata": {
        "id": "mVuWicDG3X7B",
        "colab_type": "text"
      },
      "source": [
        "Expected Output:\n",
        "\n",
        "![Figure 27 - List of categorical variables](https://docs.google.com/uc?export=download&id=1n5gkiNhA0bPeZFUTdrXEssgqJtqwuBW0)\n"
      ]
    },
    {
      "cell_type": "code",
      "metadata": {
        "id": "vdBz2p9w6w4K",
        "colab_type": "code",
        "outputId": "06c091c4-c294-4ed2-8438-69a1f27c6b00",
        "colab": {
          "base_uri": "https://localhost:8080/",
          "height": 187
        }
      },
      "source": [
        "obj_cols = obj_df.columns\n",
        "obj_cols"
      ],
      "execution_count": 0,
      "outputs": [
        {
          "output_type": "execute_result",
          "data": {
            "text/plain": [
              "Index(['MSZoning', 'Street', 'Alley', 'LotShape', 'LandContour', 'Utilities',\n",
              "       'LotConfig', 'LandSlope', 'Neighborhood', 'Condition1', 'Condition2',\n",
              "       'BldgType', 'HouseStyle', 'RoofStyle', 'RoofMatl', 'Exterior1st',\n",
              "       'Exterior2nd', 'MasVnrType', 'ExterQual', 'ExterCond', 'Foundation',\n",
              "       'BsmtQual', 'BsmtCond', 'BsmtExposure', 'BsmtFinType1', 'BsmtFinType2',\n",
              "       'Heating', 'HeatingQC', 'CentralAir', 'Electrical', 'KitchenQual',\n",
              "       'Functional', 'FireplaceQu', 'GarageType', 'GarageFinish', 'GarageQual',\n",
              "       'GarageCond', 'PavedDrive', 'PoolQC', 'Fence', 'MiscFeature',\n",
              "       'SaleType', 'SaleCondition'],\n",
              "      dtype='object')"
            ]
          },
          "metadata": {
            "tags": []
          },
          "execution_count": 22
        }
      ]
    },
    {
      "cell_type": "markdown",
      "metadata": {
        "id": "kE2u0_H3aJWs",
        "colab_type": "text"
      },
      "source": [
        "6. Create a function called 'describe_object' that takes a **pandas** dataframe and a column name as input parameters. Then inside the function, print out the name of the given column, its number of unique values using the method **nunique()** and the list of values and their occurence using the method **value_counts()**:"
      ]
    },
    {
      "cell_type": "code",
      "metadata": {
        "id": "3yRUe0E7aJgk",
        "colab_type": "code",
        "colab": {}
      },
      "source": [
        "def describe_object(df, col_name):\n",
        "  print(f\"\\nCOLUMN: {col_name}\")\n",
        "  print(f\"{df[col_name].nunique()} different values\")\n",
        "  print(f\"List of values:\")\n",
        "  print(df[col_name].value_counts(dropna=False, normalize=True))"
      ],
      "execution_count": 0,
      "outputs": []
    },
    {
      "cell_type": "markdown",
      "metadata": {
        "id": "H1YRwGZgOYmp",
        "colab_type": "text"
      },
      "source": [
        "7. Test this function by providing the 'df' dataframe and the column 'MSZoning':"
      ]
    },
    {
      "cell_type": "markdown",
      "metadata": {
        "id": "hTglykjp3hZG",
        "colab_type": "text"
      },
      "source": [
        "Expected Output:\n",
        "\n",
        "![Figure 28 - Display of the created function for the column ‘MSZoning’](https://docs.google.com/uc?export=download&id=1PE8Ive1mpHZeeC0GN5wDrjxvkaufT5Pv)\n"
      ]
    },
    {
      "cell_type": "code",
      "metadata": {
        "id": "QRLrQjc5bl5b",
        "colab_type": "code",
        "outputId": "0b94009d-3775-41ce-a4b5-a2e5f40b36a3",
        "colab": {
          "base_uri": "https://localhost:8080/",
          "height": 187
        }
      },
      "source": [
        "describe_object(df, 'MSZoning')"
      ],
      "execution_count": 0,
      "outputs": [
        {
          "output_type": "stream",
          "text": [
            "\n",
            "COLUMN: MSZoning\n",
            "5 different values\n",
            "List of values:\n",
            "RL         0.788356\n",
            "RM         0.149315\n",
            "FV         0.044521\n",
            "RH         0.010959\n",
            "C (all)    0.006849\n",
            "Name: MSZoning, dtype: float64\n"
          ],
          "name": "stdout"
        }
      ]
    },
    {
      "cell_type": "markdown",
      "metadata": {
        "id": "z-c3WNFIwWDG",
        "colab_type": "text"
      },
      "source": [
        "For the column ‘MSZoning’, the value ‘RL’ represents almost 79% of the values while ‘C (all) is only present less than 1% of the rows."
      ]
    },
    {
      "cell_type": "markdown",
      "metadata": {
        "id": "6sE7pqfMf-NR",
        "colab_type": "text"
      },
      "source": [
        "8. Create a for loop that will call the created function for every element from the list 'obj_cols':"
      ]
    },
    {
      "cell_type": "markdown",
      "metadata": {
        "id": "CkuSqu9p3tJK",
        "colab_type": "text"
      },
      "source": [
        "Expected Output:\n",
        "\n",
        "![Figure 29 - Display of the created function for the first columns contained in ‘obj_cols’](https://docs.google.com/uc?export=download&id=1cou8u_aD4Z8ec1EqDKRPFXJGGyEQUzh_)\n",
        "\n"
      ]
    },
    {
      "cell_type": "code",
      "metadata": {
        "id": "hv3qvtqZf-TL",
        "colab_type": "code",
        "outputId": "adf18174-a440-4fd6-c7f2-59461011644f",
        "colab": {
          "base_uri": "https://localhost:8080/",
          "height": 1000
        }
      },
      "source": [
        "for col_name in obj_cols:\n",
        "  describe_object(df, col_name)"
      ],
      "execution_count": 0,
      "outputs": [
        {
          "output_type": "stream",
          "text": [
            "\n",
            "COLUMN: MSZoning\n",
            "5 different values\n",
            "List of values:\n",
            "RL         0.788356\n",
            "RM         0.149315\n",
            "FV         0.044521\n",
            "RH         0.010959\n",
            "C (all)    0.006849\n",
            "Name: MSZoning, dtype: float64\n",
            "\n",
            "COLUMN: Street\n",
            "2 different values\n",
            "List of values:\n",
            "Pave    0.99589\n",
            "Grvl    0.00411\n",
            "Name: Street, dtype: float64\n",
            "\n",
            "COLUMN: Alley\n",
            "2 different values\n",
            "List of values:\n",
            "NaN     0.937671\n",
            "Grvl    0.034247\n",
            "Pave    0.028082\n",
            "Name: Alley, dtype: float64\n",
            "\n",
            "COLUMN: LotShape\n",
            "4 different values\n",
            "List of values:\n",
            "Reg    0.633562\n",
            "IR1    0.331507\n",
            "IR2    0.028082\n",
            "IR3    0.006849\n",
            "Name: LotShape, dtype: float64\n",
            "\n",
            "COLUMN: LandContour\n",
            "4 different values\n",
            "List of values:\n",
            "Lvl    0.897945\n",
            "Bnk    0.043151\n",
            "HLS    0.034247\n",
            "Low    0.024658\n",
            "Name: LandContour, dtype: float64\n",
            "\n",
            "COLUMN: Utilities\n",
            "2 different values\n",
            "List of values:\n",
            "AllPub    0.999315\n",
            "NoSeWa    0.000685\n",
            "Name: Utilities, dtype: float64\n",
            "\n",
            "COLUMN: LotConfig\n",
            "5 different values\n",
            "List of values:\n",
            "Inside     0.720548\n",
            "Corner     0.180137\n",
            "CulDSac    0.064384\n",
            "FR2        0.032192\n",
            "FR3        0.002740\n",
            "Name: LotConfig, dtype: float64\n",
            "\n",
            "COLUMN: LandSlope\n",
            "3 different values\n",
            "List of values:\n",
            "Gtl    0.946575\n",
            "Mod    0.044521\n",
            "Sev    0.008904\n",
            "Name: LandSlope, dtype: float64\n",
            "\n",
            "COLUMN: Neighborhood\n",
            "25 different values\n",
            "List of values:\n",
            "NAmes      0.154110\n",
            "CollgCr    0.102740\n",
            "OldTown    0.077397\n",
            "Edwards    0.068493\n",
            "Somerst    0.058904\n",
            "Gilbert    0.054110\n",
            "NridgHt    0.052740\n",
            "Sawyer     0.050685\n",
            "NWAmes     0.050000\n",
            "SawyerW    0.040411\n",
            "BrkSide    0.039726\n",
            "Crawfor    0.034932\n",
            "Mitchel    0.033562\n",
            "NoRidge    0.028082\n",
            "Timber     0.026027\n",
            "IDOTRR     0.025342\n",
            "ClearCr    0.019178\n",
            "StoneBr    0.017123\n",
            "SWISU      0.017123\n",
            "Blmngtn    0.011644\n",
            "MeadowV    0.011644\n",
            "BrDale     0.010959\n",
            "Veenker    0.007534\n",
            "NPkVill    0.006164\n",
            "Blueste    0.001370\n",
            "Name: Neighborhood, dtype: float64\n",
            "\n",
            "COLUMN: Condition1\n",
            "9 different values\n",
            "List of values:\n",
            "Norm      0.863014\n",
            "Feedr     0.055479\n",
            "Artery    0.032877\n",
            "RRAn      0.017808\n",
            "PosN      0.013014\n",
            "RRAe      0.007534\n",
            "PosA      0.005479\n",
            "RRNn      0.003425\n",
            "RRNe      0.001370\n",
            "Name: Condition1, dtype: float64\n",
            "\n",
            "COLUMN: Condition2\n",
            "8 different values\n",
            "List of values:\n",
            "Norm      0.989726\n",
            "Feedr     0.004110\n",
            "Artery    0.001370\n",
            "RRNn      0.001370\n",
            "PosN      0.001370\n",
            "PosA      0.000685\n",
            "RRAe      0.000685\n",
            "RRAn      0.000685\n",
            "Name: Condition2, dtype: float64\n",
            "\n",
            "COLUMN: BldgType\n",
            "5 different values\n",
            "List of values:\n",
            "1Fam      0.835616\n",
            "TwnhsE    0.078082\n",
            "Duplex    0.035616\n",
            "Twnhs     0.029452\n",
            "2fmCon    0.021233\n",
            "Name: BldgType, dtype: float64\n",
            "\n",
            "COLUMN: HouseStyle\n",
            "8 different values\n",
            "List of values:\n",
            "1Story    0.497260\n",
            "2Story    0.304795\n",
            "1.5Fin    0.105479\n",
            "SLvl      0.044521\n",
            "SFoyer    0.025342\n",
            "1.5Unf    0.009589\n",
            "2.5Unf    0.007534\n",
            "2.5Fin    0.005479\n",
            "Name: HouseStyle, dtype: float64\n",
            "\n",
            "COLUMN: RoofStyle\n",
            "6 different values\n",
            "List of values:\n",
            "Gable      0.781507\n",
            "Hip        0.195890\n",
            "Flat       0.008904\n",
            "Gambrel    0.007534\n",
            "Mansard    0.004795\n",
            "Shed       0.001370\n",
            "Name: RoofStyle, dtype: float64\n",
            "\n",
            "COLUMN: RoofMatl\n",
            "8 different values\n",
            "List of values:\n",
            "CompShg    0.982192\n",
            "Tar&Grv    0.007534\n",
            "WdShngl    0.004110\n",
            "WdShake    0.003425\n",
            "ClyTile    0.000685\n",
            "Membran    0.000685\n",
            "Metal      0.000685\n",
            "Roll       0.000685\n",
            "Name: RoofMatl, dtype: float64\n",
            "\n",
            "COLUMN: Exterior1st\n",
            "15 different values\n",
            "List of values:\n",
            "VinylSd    0.352740\n",
            "HdBoard    0.152055\n",
            "MetalSd    0.150685\n",
            "Wd Sdng    0.141096\n",
            "Plywood    0.073973\n",
            "CemntBd    0.041781\n",
            "BrkFace    0.034247\n",
            "WdShing    0.017808\n",
            "Stucco     0.017123\n",
            "AsbShng    0.013699\n",
            "BrkComm    0.001370\n",
            "Stone      0.001370\n",
            "ImStucc    0.000685\n",
            "AsphShn    0.000685\n",
            "CBlock     0.000685\n",
            "Name: Exterior1st, dtype: float64\n",
            "\n",
            "COLUMN: Exterior2nd\n",
            "16 different values\n",
            "List of values:\n",
            "VinylSd    0.345205\n",
            "MetalSd    0.146575\n",
            "HdBoard    0.141781\n",
            "Wd Sdng    0.134932\n",
            "Plywood    0.097260\n",
            "CmentBd    0.041096\n",
            "Wd Shng    0.026027\n",
            "Stucco     0.017808\n",
            "BrkFace    0.017123\n",
            "AsbShng    0.013699\n",
            "ImStucc    0.006849\n",
            "Brk Cmn    0.004795\n",
            "Stone      0.003425\n",
            "AsphShn    0.002055\n",
            "Other      0.000685\n",
            "CBlock     0.000685\n",
            "Name: Exterior2nd, dtype: float64\n",
            "\n",
            "COLUMN: MasVnrType\n",
            "4 different values\n",
            "List of values:\n",
            "None       0.591781\n",
            "BrkFace    0.304795\n",
            "Stone      0.087671\n",
            "BrkCmn     0.010274\n",
            "NaN        0.005479\n",
            "Name: MasVnrType, dtype: float64\n",
            "\n",
            "COLUMN: ExterQual\n",
            "4 different values\n",
            "List of values:\n",
            "TA    0.620548\n",
            "Gd    0.334247\n",
            "Ex    0.035616\n",
            "Fa    0.009589\n",
            "Name: ExterQual, dtype: float64\n",
            "\n",
            "COLUMN: ExterCond\n",
            "5 different values\n",
            "List of values:\n",
            "TA    0.878082\n",
            "Gd    0.100000\n",
            "Fa    0.019178\n",
            "Ex    0.002055\n",
            "Po    0.000685\n",
            "Name: ExterCond, dtype: float64\n",
            "\n",
            "COLUMN: Foundation\n",
            "6 different values\n",
            "List of values:\n",
            "PConc     0.443151\n",
            "CBlock    0.434247\n",
            "BrkTil    0.100000\n",
            "Slab      0.016438\n",
            "Stone     0.004110\n",
            "Wood      0.002055\n",
            "Name: Foundation, dtype: float64\n",
            "\n",
            "COLUMN: BsmtQual\n",
            "4 different values\n",
            "List of values:\n",
            "TA     0.444521\n",
            "Gd     0.423288\n",
            "Ex     0.082877\n",
            "NaN    0.025342\n",
            "Fa     0.023973\n",
            "Name: BsmtQual, dtype: float64\n",
            "\n",
            "COLUMN: BsmtCond\n",
            "4 different values\n",
            "List of values:\n",
            "TA     0.897945\n",
            "Gd     0.044521\n",
            "Fa     0.030822\n",
            "NaN    0.025342\n",
            "Po     0.001370\n",
            "Name: BsmtCond, dtype: float64\n",
            "\n",
            "COLUMN: BsmtExposure\n",
            "4 different values\n",
            "List of values:\n",
            "No     0.652740\n",
            "Av     0.151370\n",
            "Gd     0.091781\n",
            "Mn     0.078082\n",
            "NaN    0.026027\n",
            "Name: BsmtExposure, dtype: float64\n",
            "\n",
            "COLUMN: BsmtFinType1\n",
            "6 different values\n",
            "List of values:\n",
            "Unf    0.294521\n",
            "GLQ    0.286301\n",
            "ALQ    0.150685\n",
            "BLQ    0.101370\n",
            "Rec    0.091096\n",
            "LwQ    0.050685\n",
            "NaN    0.025342\n",
            "Name: BsmtFinType1, dtype: float64\n",
            "\n",
            "COLUMN: BsmtFinType2\n",
            "6 different values\n",
            "List of values:\n",
            "Unf    0.860274\n",
            "Rec    0.036986\n",
            "LwQ    0.031507\n",
            "NaN    0.026027\n",
            "BLQ    0.022603\n",
            "ALQ    0.013014\n",
            "GLQ    0.009589\n",
            "Name: BsmtFinType2, dtype: float64\n",
            "\n",
            "COLUMN: Heating\n",
            "6 different values\n",
            "List of values:\n",
            "GasA     0.978082\n",
            "GasW     0.012329\n",
            "Grav     0.004795\n",
            "Wall     0.002740\n",
            "OthW     0.001370\n",
            "Floor    0.000685\n",
            "Name: Heating, dtype: float64\n",
            "\n",
            "COLUMN: HeatingQC\n",
            "5 different values\n",
            "List of values:\n",
            "Ex    0.507534\n",
            "TA    0.293151\n",
            "Gd    0.165068\n",
            "Fa    0.033562\n",
            "Po    0.000685\n",
            "Name: HeatingQC, dtype: float64\n",
            "\n",
            "COLUMN: CentralAir\n",
            "2 different values\n",
            "List of values:\n",
            "Y    0.934932\n",
            "N    0.065068\n",
            "Name: CentralAir, dtype: float64\n",
            "\n",
            "COLUMN: Electrical\n",
            "5 different values\n",
            "List of values:\n",
            "SBrkr    0.913699\n",
            "FuseA    0.064384\n",
            "FuseF    0.018493\n",
            "FuseP    0.002055\n",
            "Mix      0.000685\n",
            "NaN      0.000685\n",
            "Name: Electrical, dtype: float64\n",
            "\n",
            "COLUMN: KitchenQual\n",
            "4 different values\n",
            "List of values:\n",
            "TA    0.503425\n",
            "Gd    0.401370\n",
            "Ex    0.068493\n",
            "Fa    0.026712\n",
            "Name: KitchenQual, dtype: float64\n",
            "\n",
            "COLUMN: Functional\n",
            "7 different values\n",
            "List of values:\n",
            "Typ     0.931507\n",
            "Min2    0.023288\n",
            "Min1    0.021233\n",
            "Mod     0.010274\n",
            "Maj1    0.009589\n",
            "Maj2    0.003425\n",
            "Sev     0.000685\n",
            "Name: Functional, dtype: float64\n",
            "\n",
            "COLUMN: FireplaceQu\n",
            "5 different values\n",
            "List of values:\n",
            "NaN    0.472603\n",
            "Gd     0.260274\n",
            "TA     0.214384\n",
            "Fa     0.022603\n",
            "Ex     0.016438\n",
            "Po     0.013699\n",
            "Name: FireplaceQu, dtype: float64\n",
            "\n",
            "COLUMN: GarageType\n",
            "6 different values\n",
            "List of values:\n",
            "Attchd     0.595890\n",
            "Detchd     0.265068\n",
            "BuiltIn    0.060274\n",
            "NaN        0.055479\n",
            "Basment    0.013014\n",
            "CarPort    0.006164\n",
            "2Types     0.004110\n",
            "Name: GarageType, dtype: float64\n",
            "\n",
            "COLUMN: GarageFinish\n",
            "3 different values\n",
            "List of values:\n",
            "Unf    0.414384\n",
            "RFn    0.289041\n",
            "Fin    0.241096\n",
            "NaN    0.055479\n",
            "Name: GarageFinish, dtype: float64\n",
            "\n",
            "COLUMN: GarageQual\n",
            "5 different values\n",
            "List of values:\n",
            "TA     0.897945\n",
            "NaN    0.055479\n",
            "Fa     0.032877\n",
            "Gd     0.009589\n",
            "Ex     0.002055\n",
            "Po     0.002055\n",
            "Name: GarageQual, dtype: float64\n",
            "\n",
            "COLUMN: GarageCond\n",
            "5 different values\n",
            "List of values:\n",
            "TA     0.908219\n",
            "NaN    0.055479\n",
            "Fa     0.023973\n",
            "Gd     0.006164\n",
            "Po     0.004795\n",
            "Ex     0.001370\n",
            "Name: GarageCond, dtype: float64\n",
            "\n",
            "COLUMN: PavedDrive\n",
            "3 different values\n",
            "List of values:\n",
            "Y    0.917808\n",
            "N    0.061644\n",
            "P    0.020548\n",
            "Name: PavedDrive, dtype: float64\n",
            "\n",
            "COLUMN: PoolQC\n",
            "3 different values\n",
            "List of values:\n",
            "NaN    0.995205\n",
            "Gd     0.002055\n",
            "Fa     0.001370\n",
            "Ex     0.001370\n",
            "Name: PoolQC, dtype: float64\n",
            "\n",
            "COLUMN: Fence\n",
            "4 different values\n",
            "List of values:\n",
            "NaN      0.807534\n",
            "MnPrv    0.107534\n",
            "GdPrv    0.040411\n",
            "GdWo     0.036986\n",
            "MnWw     0.007534\n",
            "Name: Fence, dtype: float64\n",
            "\n",
            "COLUMN: MiscFeature\n",
            "4 different values\n",
            "List of values:\n",
            "NaN     0.963014\n",
            "Shed    0.033562\n",
            "Gar2    0.001370\n",
            "Othr    0.001370\n",
            "TenC    0.000685\n",
            "Name: MiscFeature, dtype: float64\n",
            "\n",
            "COLUMN: SaleType\n",
            "9 different values\n",
            "List of values:\n",
            "WD       0.867808\n",
            "New      0.083562\n",
            "COD      0.029452\n",
            "ConLD    0.006164\n",
            "ConLw    0.003425\n",
            "ConLI    0.003425\n",
            "CWD      0.002740\n",
            "Oth      0.002055\n",
            "Con      0.001370\n",
            "Name: SaleType, dtype: float64\n",
            "\n",
            "COLUMN: SaleCondition\n",
            "6 different values\n",
            "List of values:\n",
            "Normal     0.820548\n",
            "Partial    0.085616\n",
            "Abnorml    0.069178\n",
            "Family     0.013699\n",
            "Alloca     0.008219\n",
            "AdjLand    0.002740\n",
            "Name: SaleCondition, dtype: float64\n"
          ],
          "name": "stdout"
        }
      ]
    },
    {
      "cell_type": "markdown",
      "metadata": {
        "id": "ZO9eRjpFwQvD",
        "colab_type": "text"
      },
      "source": [
        "We can confirm that the column ‘Street’ is almost constant as 99.6% of the rows contains the same value: ‘Pave’. For the column ‘Alley’, almost 94% of the rows have missing values. We can also notice that 'MiscFeature' contains missing value for 96% of the rows so this column doesn't contain much information.\n"
      ]
    },
    {
      "cell_type": "markdown",
      "metadata": {
        "id": "_-yGDjckRbwV",
        "colab_type": "text"
      },
      "source": [
        "Excellent! We just analysed all the categorical variables from this dataset in one go. We saw how to look at the distribution of all the values contained in one feature. We also found that some of them are dominated by a single value and others have mainly missing values."
      ]
    }
  ]
}