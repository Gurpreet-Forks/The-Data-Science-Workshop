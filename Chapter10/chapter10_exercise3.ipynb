{
  "nbformat": 4,
  "nbformat_minor": 0,
  "metadata": {
    "colab": {
      "name": "chapter10-exercise3.ipynb",
      "provenance": [],
      "collapsed_sections": []
    },
    "kernelspec": {
      "name": "python3",
      "display_name": "Python 3"
    }
  },
  "cells": [
    {
      "cell_type": "markdown",
      "metadata": {
        "id": "37vrnAFPW6_C",
        "colab_type": "text"
      },
      "source": [
        "#Exercise 10.03: Analysing numerical variables from the  Ames Housing dataset\n",
        "In this exercise, we will continue our dataset exploration by analysing the numerical variables of this dataset. To do so, we will implement our own describe functions.\n",
        "\n",
        "The dataset we will be using in this exercise is the Ames Housing dataset and it can be found on our GitHub repository - https://github.com/TrainingByPackt/The-Data-Science-Workshop/blob/master/Chapter10/dataset/ames_iowa_housing.csv"
      ]
    },
    {
      "cell_type": "markdown",
      "metadata": {
        "id": "2Ox-pHUPX78-",
        "colab_type": "text"
      },
      "source": [
        "1. Open on a new Colab notebook and import the pandas package"
      ]
    },
    {
      "cell_type": "code",
      "metadata": {
        "id": "HEiOAwQPW0qb",
        "colab_type": "code",
        "colab": {}
      },
      "source": [
        "import pandas as pd"
      ],
      "execution_count": 0,
      "outputs": []
    },
    {
      "cell_type": "markdown",
      "metadata": {
        "id": "C6NbwMIwX_84",
        "colab_type": "text"
      },
      "source": [
        "2. Assign the link to the AMES dataset to a variable called 'file_url':"
      ]
    },
    {
      "cell_type": "code",
      "metadata": {
        "id": "j7whidfaYjns",
        "colab_type": "code",
        "colab": {}
      },
      "source": [
        "file_url = 'https://raw.githubusercontent.com/TrainingByPackt/The-Data-Science-Workshop/master/Chapter10/dataset/ames_iowa_housing.csv'"
      ],
      "execution_count": 0,
      "outputs": []
    },
    {
      "cell_type": "markdown",
      "metadata": {
        "id": "VzoH_wvLuD0p",
        "colab_type": "text"
      },
      "source": [
        "3. Using the read_csv method from the package pandas, load the dataset into a new variable called 'df':"
      ]
    },
    {
      "cell_type": "code",
      "metadata": {
        "id": "nFMz2jNVt-xy",
        "colab_type": "code",
        "colab": {}
      },
      "source": [
        "df = pd.read_csv(file_url)"
      ],
      "execution_count": 0,
      "outputs": []
    },
    {
      "cell_type": "markdown",
      "metadata": {
        "id": "4ncUEcgF4-Np",
        "colab_type": "text"
      },
      "source": [
        "4. Create a new dataframe called 'num_df' with only the columns that are of numerical types using the method select_dtypes from pandas packages and pass in the value 'number' to the parameter 'include: "
      ]
    },
    {
      "cell_type": "code",
      "metadata": {
        "id": "D74unKky461E",
        "colab_type": "code",
        "colab": {}
      },
      "source": [
        "num_df = df.select_dtypes(include='number')"
      ],
      "execution_count": 0,
      "outputs": []
    },
    {
      "cell_type": "markdown",
      "metadata": {
        "id": "mZDFMD4_6YEq",
        "colab_type": "text"
      },
      "source": [
        "5. Using the attribute **columns** from pandas, extract the list of columns of this dataframe 'num_df' and assign it to a new variable called 'num_cols' and print its content:"
      ]
    },
    {
      "cell_type": "markdown",
      "metadata": {
        "id": "UNVRW-fX3IYK",
        "colab_type": "text"
      },
      "source": [
        "Expected Output:\n",
        "\n",
        "![Figure 26 - List of numerical columns](https://docs.google.com/uc?export=download&id=1Xe6dR0fT6zT6-WIddLPvOOu2QU8OjMfX)\n",
        "\n"
      ]
    },
    {
      "cell_type": "code",
      "metadata": {
        "id": "bYS2m8qK6hqr",
        "colab_type": "code",
        "outputId": "a21d0e5b-9836-48a6-9578-46e0855a21fb",
        "colab": {
          "base_uri": "https://localhost:8080/"
        }
      },
      "source": [
        "num_cols = num_df.columns\n",
        "num_cols"
      ],
      "execution_count": 0,
      "outputs": [
        {
          "output_type": "execute_result",
          "data": {
            "text/plain": [
              "Index(['Id', 'MSSubClass', 'LotFrontage', 'LotArea', 'OverallQual',\n",
              "       'OverallCond', 'YearBuilt', 'YearRemodAdd', 'MasVnrArea', 'BsmtFinSF1',\n",
              "       'BsmtFinSF2', 'BsmtUnfSF', 'TotalBsmtSF', '1stFlrSF', '2ndFlrSF',\n",
              "       'LowQualFinSF', 'GrLivArea', 'BsmtFullBath', 'BsmtHalfBath', 'FullBath',\n",
              "       'HalfBath', 'BedroomAbvGr', 'KitchenAbvGr', 'TotRmsAbvGrd',\n",
              "       'Fireplaces', 'GarageYrBlt', 'GarageCars', 'GarageArea', 'WoodDeckSF',\n",
              "       'OpenPorchSF', 'EnclosedPorch', '3SsnPorch', 'ScreenPorch', 'PoolArea',\n",
              "       'MiscVal', 'MoSold', 'YrSold', 'SalePrice'],\n",
              "      dtype='object')"
            ]
          },
          "metadata": {
            "tags": []
          },
          "execution_count": 5
        }
      ]
    },
    {
      "cell_type": "markdown",
      "metadata": {
        "id": "8nEx_t0fb8vf",
        "colab_type": "text"
      },
      "source": [
        "6. Create a function called 'describe_numeric' that takes a **pandas** dataframe and a column name as input parameters. Then inside the function, print out the name of the given column, its minimum value using **min()**, maximum value using **max()**, its average value using **mean()**, standard deviation using **std()**, and median using **median()**:"
      ]
    },
    {
      "cell_type": "code",
      "metadata": {
        "id": "6VX9ZfOPb81u",
        "colab_type": "code",
        "colab": {}
      },
      "source": [
        "def describe_numeric(df, col_name):\n",
        "  print(f\"\\nCOLUMN: {col_name}\")\n",
        "  print(f\"Minimum: {df[col_name].min()}\")\n",
        "  print(f\"Maximum: {df[col_name].max()}\")\n",
        "  print(f\"Average: {df[col_name].mean()}\")\n",
        "  print(f\"Standard Deviation: {df[col_name].std()}\")\n",
        "  print(f\"Median: {df[col_name].median()}\")"
      ],
      "execution_count": 0,
      "outputs": []
    },
    {
      "cell_type": "markdown",
      "metadata": {
        "id": "C41_Ljb9fWkj",
        "colab_type": "text"
      },
      "source": [
        "7. Test this function by providing the 'df' dataframe and the column 'SalePrice':"
      ]
    },
    {
      "cell_type": "markdown",
      "metadata": {
        "id": "vmQ2YKl-35bj",
        "colab_type": "text"
      },
      "source": [
        "Expected Output:\n",
        "\n",
        "![Figure 30 - Display of the created function for the column ‘SalePrice’](https://docs.google.com/uc?export=download&id=1V0AZA0zxOcrbS2HLYFPhE75kBzy7CwPx)\n"
      ]
    },
    {
      "cell_type": "code",
      "metadata": {
        "id": "xwaJOSQBfWIK",
        "colab_type": "code",
        "outputId": "3a4d0e45-0b97-47bc-ffae-6c1561600339",
        "colab": {
          "base_uri": "https://localhost:8080/"
        }
      },
      "source": [
        "describe_numeric(df, 'SalePrice')"
      ],
      "execution_count": 0,
      "outputs": [
        {
          "output_type": "stream",
          "text": [
            "\n",
            "COLUMN: SalePrice\n",
            "Minimum: 34900\n",
            "Maximum: 755000\n",
            "Average: 180921.19589041095\n",
            "Standard Deviation: 79442.50288288663\n",
            "Median: 163000.0\n"
          ],
          "name": "stdout"
        }
      ]
    },
    {
      "cell_type": "markdown",
      "metadata": {
        "id": "T4kMYqoiwNJa",
        "colab_type": "text"
      },
      "source": [
        "The sale price ranges from 34,900 to 755,000 with an average of 180,921. The median is slightly lower than the average which tells us there are some outliers with high sales prices."
      ]
    },
    {
      "cell_type": "markdown",
      "metadata": {
        "id": "1drqU1ZOfkLi",
        "colab_type": "text"
      },
      "source": [
        "8. Create a for loop that will call the created function for every element from the list 'num_cols':"
      ]
    },
    {
      "cell_type": "markdown",
      "metadata": {
        "id": "NoeGI9574Cs0",
        "colab_type": "text"
      },
      "source": [
        "Expected Output:\n",
        "\n",
        "![Figure 31 - Display of the created function for the first columns contained in ‘num_cols’](https://docs.google.com/uc?export=download&id=1N9LXQhRwfC6HlILm1kJBMa3xwax_Sydp)"
      ]
    },
    {
      "cell_type": "code",
      "metadata": {
        "id": "aM3eEOmJfkRk",
        "colab_type": "code",
        "outputId": "f267a82c-85cc-4e4d-f964-8744463a82cd",
        "colab": {
          "base_uri": "https://localhost:8080/"
        }
      },
      "source": [
        "for col_name in num_cols:\n",
        "  describe_numeric(df, col_name)"
      ],
      "execution_count": 0,
      "outputs": [
        {
          "output_type": "stream",
          "text": [
            "\n",
            "COLUMN: Id\n",
            "Minimum: 1\n",
            "Maximum: 1460\n",
            "Average: 730.5\n",
            "Standard Deviation: 421.6100093688479\n",
            "Median: 730.5\n",
            "\n",
            "COLUMN: MSSubClass\n",
            "Minimum: 20\n",
            "Maximum: 190\n",
            "Average: 56.897260273972606\n",
            "Standard Deviation: 42.30057099381035\n",
            "Median: 50.0\n",
            "\n",
            "COLUMN: LotFrontage\n",
            "Minimum: 21.0\n",
            "Maximum: 313.0\n",
            "Average: 70.04995836802665\n",
            "Standard Deviation: 24.284751774483183\n",
            "Median: 69.0\n",
            "\n",
            "COLUMN: LotArea\n",
            "Minimum: 1300\n",
            "Maximum: 215245\n",
            "Average: 10516.828082191782\n",
            "Standard Deviation: 9981.264932379147\n",
            "Median: 9478.5\n",
            "\n",
            "COLUMN: OverallQual\n",
            "Minimum: 1\n",
            "Maximum: 10\n",
            "Average: 6.0993150684931505\n",
            "Standard Deviation: 1.3829965467415923\n",
            "Median: 6.0\n",
            "\n",
            "COLUMN: OverallCond\n",
            "Minimum: 1\n",
            "Maximum: 9\n",
            "Average: 5.575342465753424\n",
            "Standard Deviation: 1.1127993367127367\n",
            "Median: 5.0\n",
            "\n",
            "COLUMN: YearBuilt\n",
            "Minimum: 1872\n",
            "Maximum: 2010\n",
            "Average: 1971.267808219178\n",
            "Standard Deviation: 30.202904042525265\n",
            "Median: 1973.0\n",
            "\n",
            "COLUMN: YearRemodAdd\n",
            "Minimum: 1950\n",
            "Maximum: 2010\n",
            "Average: 1984.8657534246574\n",
            "Standard Deviation: 20.645406807709396\n",
            "Median: 1994.0\n",
            "\n",
            "COLUMN: MasVnrArea\n",
            "Minimum: 0.0\n",
            "Maximum: 1600.0\n",
            "Average: 103.68526170798899\n",
            "Standard Deviation: 181.06620658721818\n",
            "Median: 0.0\n",
            "\n",
            "COLUMN: BsmtFinSF1\n",
            "Minimum: 0\n",
            "Maximum: 5644\n",
            "Average: 443.6397260273973\n",
            "Standard Deviation: 456.09809084092456\n",
            "Median: 383.5\n",
            "\n",
            "COLUMN: BsmtFinSF2\n",
            "Minimum: 0\n",
            "Maximum: 1474\n",
            "Average: 46.54931506849315\n",
            "Standard Deviation: 161.31927280654057\n",
            "Median: 0.0\n",
            "\n",
            "COLUMN: BsmtUnfSF\n",
            "Minimum: 0\n",
            "Maximum: 2336\n",
            "Average: 567.2404109589041\n",
            "Standard Deviation: 441.8669552924342\n",
            "Median: 477.5\n",
            "\n",
            "COLUMN: TotalBsmtSF\n",
            "Minimum: 0\n",
            "Maximum: 6110\n",
            "Average: 1057.4294520547944\n",
            "Standard Deviation: 438.7053244594705\n",
            "Median: 991.5\n",
            "\n",
            "COLUMN: 1stFlrSF\n",
            "Minimum: 334\n",
            "Maximum: 4692\n",
            "Average: 1162.626712328767\n",
            "Standard Deviation: 386.5877380410738\n",
            "Median: 1087.0\n",
            "\n",
            "COLUMN: 2ndFlrSF\n",
            "Minimum: 0\n",
            "Maximum: 2065\n",
            "Average: 346.99246575342465\n",
            "Standard Deviation: 436.5284358862591\n",
            "Median: 0.0\n",
            "\n",
            "COLUMN: LowQualFinSF\n",
            "Minimum: 0\n",
            "Maximum: 572\n",
            "Average: 5.844520547945206\n",
            "Standard Deviation: 48.623081433519125\n",
            "Median: 0.0\n",
            "\n",
            "COLUMN: GrLivArea\n",
            "Minimum: 334\n",
            "Maximum: 5642\n",
            "Average: 1515.463698630137\n",
            "Standard Deviation: 525.4803834232027\n",
            "Median: 1464.0\n",
            "\n",
            "COLUMN: BsmtFullBath\n",
            "Minimum: 0\n",
            "Maximum: 3\n",
            "Average: 0.42534246575342466\n",
            "Standard Deviation: 0.5189106060897992\n",
            "Median: 0.0\n",
            "\n",
            "COLUMN: BsmtHalfBath\n",
            "Minimum: 0\n",
            "Maximum: 2\n",
            "Average: 0.057534246575342465\n",
            "Standard Deviation: 0.23875264627920764\n",
            "Median: 0.0\n",
            "\n",
            "COLUMN: FullBath\n",
            "Minimum: 0\n",
            "Maximum: 3\n",
            "Average: 1.5650684931506849\n",
            "Standard Deviation: 0.5509158012954318\n",
            "Median: 2.0\n",
            "\n",
            "COLUMN: HalfBath\n",
            "Minimum: 0\n",
            "Maximum: 2\n",
            "Average: 0.38287671232876713\n",
            "Standard Deviation: 0.5028853810928973\n",
            "Median: 0.0\n",
            "\n",
            "COLUMN: BedroomAbvGr\n",
            "Minimum: 0\n",
            "Maximum: 8\n",
            "Average: 2.8664383561643834\n",
            "Standard Deviation: 0.8157780441442212\n",
            "Median: 3.0\n",
            "\n",
            "COLUMN: KitchenAbvGr\n",
            "Minimum: 0\n",
            "Maximum: 3\n",
            "Average: 1.0465753424657533\n",
            "Standard Deviation: 0.22033819838402977\n",
            "Median: 1.0\n",
            "\n",
            "COLUMN: TotRmsAbvGrd\n",
            "Minimum: 2\n",
            "Maximum: 14\n",
            "Average: 6.517808219178082\n",
            "Standard Deviation: 1.625393290584064\n",
            "Median: 6.0\n",
            "\n",
            "COLUMN: Fireplaces\n",
            "Minimum: 0\n",
            "Maximum: 3\n",
            "Average: 0.613013698630137\n",
            "Standard Deviation: 0.6446663863122344\n",
            "Median: 1.0\n",
            "\n",
            "COLUMN: GarageYrBlt\n",
            "Minimum: 1900.0\n",
            "Maximum: 2010.0\n",
            "Average: 1978.5061638868744\n",
            "Standard Deviation: 24.689724768590214\n",
            "Median: 1980.0\n",
            "\n",
            "COLUMN: GarageCars\n",
            "Minimum: 0\n",
            "Maximum: 4\n",
            "Average: 1.7671232876712328\n",
            "Standard Deviation: 0.7473150101111116\n",
            "Median: 2.0\n",
            "\n",
            "COLUMN: GarageArea\n",
            "Minimum: 0\n",
            "Maximum: 1418\n",
            "Average: 472.9801369863014\n",
            "Standard Deviation: 213.80484145338076\n",
            "Median: 480.0\n",
            "\n",
            "COLUMN: WoodDeckSF\n",
            "Minimum: 0\n",
            "Maximum: 857\n",
            "Average: 94.2445205479452\n",
            "Standard Deviation: 125.33879435172359\n",
            "Median: 0.0\n",
            "\n",
            "COLUMN: OpenPorchSF\n",
            "Minimum: 0\n",
            "Maximum: 547\n",
            "Average: 46.66027397260274\n",
            "Standard Deviation: 66.25602767664974\n",
            "Median: 25.0\n",
            "\n",
            "COLUMN: EnclosedPorch\n",
            "Minimum: 0\n",
            "Maximum: 552\n",
            "Average: 21.954109589041096\n",
            "Standard Deviation: 61.11914860172879\n",
            "Median: 0.0\n",
            "\n",
            "COLUMN: 3SsnPorch\n",
            "Minimum: 0\n",
            "Maximum: 508\n",
            "Average: 3.4095890410958902\n",
            "Standard Deviation: 29.317330556782203\n",
            "Median: 0.0\n",
            "\n",
            "COLUMN: ScreenPorch\n",
            "Minimum: 0\n",
            "Maximum: 480\n",
            "Average: 15.060958904109588\n",
            "Standard Deviation: 55.757415281874486\n",
            "Median: 0.0\n",
            "\n",
            "COLUMN: PoolArea\n",
            "Minimum: 0\n",
            "Maximum: 738\n",
            "Average: 2.758904109589041\n",
            "Standard Deviation: 40.17730694453043\n",
            "Median: 0.0\n",
            "\n",
            "COLUMN: MiscVal\n",
            "Minimum: 0\n",
            "Maximum: 15500\n",
            "Average: 43.489041095890414\n",
            "Standard Deviation: 496.1230244579311\n",
            "Median: 0.0\n",
            "\n",
            "COLUMN: MoSold\n",
            "Minimum: 1\n",
            "Maximum: 12\n",
            "Average: 6.321917808219178\n",
            "Standard Deviation: 2.7036262083595197\n",
            "Median: 6.0\n",
            "\n",
            "COLUMN: YrSold\n",
            "Minimum: 2006\n",
            "Maximum: 2010\n",
            "Average: 2007.8157534246575\n",
            "Standard Deviation: 1.328095120552104\n",
            "Median: 2008.0\n",
            "\n",
            "COLUMN: SalePrice\n",
            "Minimum: 34900\n",
            "Maximum: 755000\n",
            "Average: 180921.19589041095\n",
            "Standard Deviation: 79442.50288288663\n",
            "Median: 163000.0\n"
          ],
          "name": "stdout"
        }
      ]
    },
    {
      "cell_type": "markdown",
      "metadata": {
        "id": "-GGO2RAewHZ-",
        "colab_type": "text"
      },
      "source": [
        "The column ‘Id’ ranges from 1 to 1460 which is the exact value as the number of rows in this dataset so this column is definitely a unique identifier of the property sold. It seems the values from the ‘MSSubClass’ are all rounded. This may indicates the information contained in this column has either been clustered into groups of ten or may be a categorical variable."
      ]
    },
    {
      "cell_type": "markdown",
      "metadata": {
        "id": "_-yGDjckRbwV",
        "colab_type": "text"
      },
      "source": [
        "Congratulations on completing this exercise! We saw how to explore a newly received dataset with just a few lines of code. This helped us to understand its structure, the type of information contained in each variable and also identified some potential data quality issues such as missing values or incorrect values."
      ]
    }
  ]
}