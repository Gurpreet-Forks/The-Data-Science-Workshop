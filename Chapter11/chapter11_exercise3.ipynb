{
  "nbformat": 4,
  "nbformat_minor": 0,
  "metadata": {
    "colab": {
      "name": "chapter11-exercise3.ipynb",
      "provenance": [],
      "collapsed_sections": []
    },
    "kernelspec": {
      "name": "python3",
      "display_name": "Python 3"
    }
  },
  "cells": [
    {
      "cell_type": "markdown",
      "metadata": {
        "id": "37vrnAFPW6_C",
        "colab_type": "text"
      },
      "source": [
        "#Exercise 3: Fix incorrect values in 'State' column\n",
        "In this exercise, we will clean the variable 'State' of a synthetic dataset listing Finance officers in USA.\n",
        "The original dataset has been shared by Forest Gregg and Derek Eder and can be found here: https://github.com/dedupeio/dedupe-examples/blob/master/extended-variables/officers.csv"
      ]
    },
    {
      "cell_type": "markdown",
      "metadata": {
        "id": "2Ox-pHUPX78-",
        "colab_type": "text"
      },
      "source": [
        "1. Open on a new Colab notebook and import the pandas package"
      ]
    },
    {
      "cell_type": "code",
      "metadata": {
        "id": "HEiOAwQPW0qb",
        "colab_type": "code",
        "colab": {}
      },
      "source": [
        "import pandas as pd"
      ],
      "execution_count": 0,
      "outputs": []
    },
    {
      "cell_type": "markdown",
      "metadata": {
        "id": "C6NbwMIwX_84",
        "colab_type": "text"
      },
      "source": [
        "2. Assign the link to the dataset to a variable called 'file_url':"
      ]
    },
    {
      "cell_type": "code",
      "metadata": {
        "id": "j7whidfaYjns",
        "colab_type": "code",
        "colab": {}
      },
      "source": [
        "file_url = 'https://raw.githubusercontent.com/TrainingByPackt/The-Data-Science-Workshop/master/Chapter11/officers.csv'"
      ],
      "execution_count": 0,
      "outputs": []
    },
    {
      "cell_type": "markdown",
      "metadata": {
        "id": "VzoH_wvLuD0p",
        "colab_type": "text"
      },
      "source": [
        "3. Using the read_csv method from the package pandas, load the dataset into a new variable called 'df':"
      ]
    },
    {
      "cell_type": "code",
      "metadata": {
        "id": "nFMz2jNVt-xy",
        "colab_type": "code",
        "colab": {}
      },
      "source": [
        "df = pd.read_csv(file_url)"
      ],
      "execution_count": 0,
      "outputs": []
    },
    {
      "cell_type": "markdown",
      "metadata": {
        "id": "garzi94On5x9",
        "colab_type": "text"
      },
      "source": [
        "4. Print the first 5 rows of the dataframe using the method .head():"
      ]
    },
    {
      "cell_type": "code",
      "metadata": {
        "id": "n0xY9ATvN6-M",
        "colab_type": "code",
        "outputId": "9730ef52-60ba-4e9f-b279-2162a853432c",
        "colab": {
          "base_uri": "https://localhost:8080/",
          "height": 204
        }
      },
      "source": [
        "df.head()"
      ],
      "execution_count": 4,
      "outputs": [
        {
          "output_type": "execute_result",
          "data": {
            "text/html": [
              "<div>\n",
              "<style scoped>\n",
              "    .dataframe tbody tr th:only-of-type {\n",
              "        vertical-align: middle;\n",
              "    }\n",
              "\n",
              "    .dataframe tbody tr th {\n",
              "        vertical-align: top;\n",
              "    }\n",
              "\n",
              "    .dataframe thead th {\n",
              "        text-align: right;\n",
              "    }\n",
              "</style>\n",
              "<table border=\"1\" class=\"dataframe\">\n",
              "  <thead>\n",
              "    <tr style=\"text-align: right;\">\n",
              "      <th></th>\n",
              "      <th>ID</th>\n",
              "      <th>LastName</th>\n",
              "      <th>FirstName</th>\n",
              "      <th>Address1</th>\n",
              "      <th>Address2</th>\n",
              "      <th>City</th>\n",
              "      <th>State</th>\n",
              "      <th>Zip</th>\n",
              "      <th>Title</th>\n",
              "      <th>Phone</th>\n",
              "      <th>RedactionRequested</th>\n",
              "    </tr>\n",
              "  </thead>\n",
              "  <tbody>\n",
              "    <tr>\n",
              "      <th>0</th>\n",
              "      <td>804</td>\n",
              "      <td>Aagaard</td>\n",
              "      <td>Mary Lou</td>\n",
              "      <td>744 Lenox Ln</td>\n",
              "      <td>NaN</td>\n",
              "      <td>Glenview</td>\n",
              "      <td>IL</td>\n",
              "      <td>60025</td>\n",
              "      <td>Treasurer</td>\n",
              "      <td>NaN</td>\n",
              "      <td>False</td>\n",
              "    </tr>\n",
              "    <tr>\n",
              "      <th>1</th>\n",
              "      <td>9177</td>\n",
              "      <td>Aaron</td>\n",
              "      <td>Barbara</td>\n",
              "      <td>212 N Webster St</td>\n",
              "      <td>NaN</td>\n",
              "      <td>Harrisburg</td>\n",
              "      <td>IL</td>\n",
              "      <td>62946</td>\n",
              "      <td>Treasurer</td>\n",
              "      <td>618/253-3602</td>\n",
              "      <td>False</td>\n",
              "    </tr>\n",
              "    <tr>\n",
              "      <th>2</th>\n",
              "      <td>53011</td>\n",
              "      <td>Aaron</td>\n",
              "      <td>Todd</td>\n",
              "      <td>c/o Great American Finance Co</td>\n",
              "      <td>20 N Wacker Dr, Ste 2275</td>\n",
              "      <td>Chicago</td>\n",
              "      <td>IL</td>\n",
              "      <td>60606</td>\n",
              "      <td>Treasurer</td>\n",
              "      <td>312-332-7132</td>\n",
              "      <td>False</td>\n",
              "    </tr>\n",
              "    <tr>\n",
              "      <th>3</th>\n",
              "      <td>9176</td>\n",
              "      <td>Aaron</td>\n",
              "      <td>Tom</td>\n",
              "      <td>212 N Webster St</td>\n",
              "      <td>NaN</td>\n",
              "      <td>Harrisburg</td>\n",
              "      <td>IL</td>\n",
              "      <td>62946</td>\n",
              "      <td>Chairman</td>\n",
              "      <td>618/253-3602</td>\n",
              "      <td>False</td>\n",
              "    </tr>\n",
              "    <tr>\n",
              "      <th>4</th>\n",
              "      <td>33020</td>\n",
              "      <td>Aarup</td>\n",
              "      <td>Brian</td>\n",
              "      <td>303 Railroad St</td>\n",
              "      <td>NaN</td>\n",
              "      <td>Mechanicsburg</td>\n",
              "      <td>IL</td>\n",
              "      <td>62545</td>\n",
              "      <td>Chairman</td>\n",
              "      <td>NaN</td>\n",
              "      <td>False</td>\n",
              "    </tr>\n",
              "  </tbody>\n",
              "</table>\n",
              "</div>"
            ],
            "text/plain": [
              "      ID LastName FirstName  ...      Title         Phone RedactionRequested\n",
              "0    804  Aagaard  Mary Lou  ...  Treasurer           NaN              False\n",
              "1   9177    Aaron   Barbara  ...  Treasurer  618/253-3602              False\n",
              "2  53011    Aaron      Todd  ...  Treasurer  312-332-7132              False\n",
              "3   9176    Aaron       Tom  ...   Chairman  618/253-3602              False\n",
              "4  33020    Aarup     Brian  ...   Chairman           NaN              False\n",
              "\n",
              "[5 rows x 11 columns]"
            ]
          },
          "metadata": {
            "tags": []
          },
          "execution_count": 4
        }
      ]
    },
    {
      "cell_type": "markdown",
      "metadata": {
        "id": "EMiIw9jOQlX8",
        "colab_type": "text"
      },
      "source": [
        "5. Print out all the unique values of the variable 'State':"
      ]
    },
    {
      "cell_type": "code",
      "metadata": {
        "id": "recrA9gLBmep",
        "colab_type": "code",
        "outputId": "b3c862c2-857e-4dfe-ff12-b808f96de412",
        "colab": {
          "base_uri": "https://localhost:8080/",
          "height": 102
        }
      },
      "source": [
        "df['State'].unique()"
      ],
      "execution_count": 5,
      "outputs": [
        {
          "output_type": "execute_result",
          "data": {
            "text/plain": [
              "array(['IL', 'PA', 'DC', 'Il', nan, 'WI', 'CA', 'MO', 'NC', 'IA', 'MA',\n",
              "       'IN', 'MI', 'TN', 'NY', 'ng', 'TX', 'CO', 'NV', 'il', 'WA', '8I',\n",
              "       'In', 'iL', 'OH', 'SC', 'VA', 'NM', 'FL', 'LA', 'GA', 'II', 'NJ',\n",
              "       'MD', 'I', 'AR', 'KS', 'DE', '60', 'SD', 'MN', 'VT', 'OK', 'KY',\n",
              "       'CT', 'NH', 'AZ', 'OR', 'PR', 'RI'], dtype=object)"
            ]
          },
          "metadata": {
            "tags": []
          },
          "execution_count": 5
        }
      ]
    },
    {
      "cell_type": "markdown",
      "metadata": {
        "id": "WCsv6A2TQ2T-",
        "colab_type": "text"
      },
      "source": [
        "All the states are encoded into a 2 capitalised characters format. We can notice there are some incorrect values with non capitalised characters like 'il' or 'iL' and unexpected values suhc as '8I', 'I' or '60'. In the next steps, we are going to fix these issues."
      ]
    },
    {
      "cell_type": "markdown",
      "metadata": {
        "id": "L5_DoP-lRa7_",
        "colab_type": "text"
      },
      "source": [
        "6. Print out the rows that have the value 'il' in the column 'State' using the pandas method .str.contains() and the subsetting API, dataframe[condition]. You will also have to specify the parameter 'na' to False from 'str.contains()' for excluding observations with missing values:\n"
      ]
    },
    {
      "cell_type": "code",
      "metadata": {
        "id": "v9LJ8sZrRxuF",
        "colab_type": "code",
        "outputId": "2628d417-a2be-47ff-ad8b-a7161011dddc",
        "colab": {
          "base_uri": "https://localhost:8080/",
          "height": 235
        }
      },
      "source": [
        "df[df['State'].str.contains('il', na=False)]"
      ],
      "execution_count": 6,
      "outputs": [
        {
          "output_type": "execute_result",
          "data": {
            "text/html": [
              "<div>\n",
              "<style scoped>\n",
              "    .dataframe tbody tr th:only-of-type {\n",
              "        vertical-align: middle;\n",
              "    }\n",
              "\n",
              "    .dataframe tbody tr th {\n",
              "        vertical-align: top;\n",
              "    }\n",
              "\n",
              "    .dataframe thead th {\n",
              "        text-align: right;\n",
              "    }\n",
              "</style>\n",
              "<table border=\"1\" class=\"dataframe\">\n",
              "  <thead>\n",
              "    <tr style=\"text-align: right;\">\n",
              "      <th></th>\n",
              "      <th>ID</th>\n",
              "      <th>LastName</th>\n",
              "      <th>FirstName</th>\n",
              "      <th>Address1</th>\n",
              "      <th>Address2</th>\n",
              "      <th>City</th>\n",
              "      <th>State</th>\n",
              "      <th>Zip</th>\n",
              "      <th>Title</th>\n",
              "      <th>Phone</th>\n",
              "      <th>RedactionRequested</th>\n",
              "    </tr>\n",
              "  </thead>\n",
              "  <tbody>\n",
              "    <tr>\n",
              "      <th>4245</th>\n",
              "      <td>47448</td>\n",
              "      <td>Bolden</td>\n",
              "      <td>Sharon</td>\n",
              "      <td>7754 S Wabash Ave</td>\n",
              "      <td>NaN</td>\n",
              "      <td>Chicago</td>\n",
              "      <td>il</td>\n",
              "      <td>60619</td>\n",
              "      <td>Treasurer</td>\n",
              "      <td>773.574.6596</td>\n",
              "      <td>False</td>\n",
              "    </tr>\n",
              "    <tr>\n",
              "      <th>4651</th>\n",
              "      <td>47447</td>\n",
              "      <td>Boyce</td>\n",
              "      <td>Vetress</td>\n",
              "      <td>3420 W 13th Pl</td>\n",
              "      <td>NaN</td>\n",
              "      <td>Chicago</td>\n",
              "      <td>il</td>\n",
              "      <td>60623-1614</td>\n",
              "      <td>Chairman</td>\n",
              "      <td>773.789.0144</td>\n",
              "      <td>False</td>\n",
              "    </tr>\n",
              "    <tr>\n",
              "      <th>4652</th>\n",
              "      <td>54025</td>\n",
              "      <td>Boyce</td>\n",
              "      <td>Vetress.</td>\n",
              "      <td>3420 W 13th Pl</td>\n",
              "      <td>NaN</td>\n",
              "      <td>Chicago</td>\n",
              "      <td>il</td>\n",
              "      <td>60623-1614</td>\n",
              "      <td>Chairman</td>\n",
              "      <td>773-459-2018</td>\n",
              "      <td>False</td>\n",
              "    </tr>\n",
              "    <tr>\n",
              "      <th>18939</th>\n",
              "      <td>39418</td>\n",
              "      <td>Haines</td>\n",
              "      <td>Michael P</td>\n",
              "      <td>8723 River Lane</td>\n",
              "      <td>NaN</td>\n",
              "      <td>Kingston</td>\n",
              "      <td>il</td>\n",
              "      <td>60145</td>\n",
              "      <td>Chairman</td>\n",
              "      <td>815-784-3323</td>\n",
              "      <td>False</td>\n",
              "    </tr>\n",
              "    <tr>\n",
              "      <th>29699</th>\n",
              "      <td>27124</td>\n",
              "      <td>MacKinney</td>\n",
              "      <td>Kevin</td>\n",
              "      <td>44W701 Littlewood Trail</td>\n",
              "      <td>NaN</td>\n",
              "      <td>Hampshire</td>\n",
              "      <td>il</td>\n",
              "      <td>60140</td>\n",
              "      <td>Chairman</td>\n",
              "      <td>NaN</td>\n",
              "      <td>False</td>\n",
              "    </tr>\n",
              "    <tr>\n",
              "      <th>43761</th>\n",
              "      <td>29179</td>\n",
              "      <td>Schmid</td>\n",
              "      <td>Lynn</td>\n",
              "      <td>4718 W Elm Street</td>\n",
              "      <td>NaN</td>\n",
              "      <td>McHenry</td>\n",
              "      <td>il</td>\n",
              "      <td>60050</td>\n",
              "      <td>Admin Asst</td>\n",
              "      <td>NaN</td>\n",
              "      <td>False</td>\n",
              "    </tr>\n",
              "  </tbody>\n",
              "</table>\n",
              "</div>"
            ],
            "text/plain": [
              "          ID   LastName  ...         Phone RedactionRequested\n",
              "4245   47448     Bolden  ...  773.574.6596              False\n",
              "4651   47447      Boyce  ...  773.789.0144              False\n",
              "4652   54025      Boyce  ...  773-459-2018              False\n",
              "18939  39418     Haines  ...  815-784-3323              False\n",
              "29699  27124  MacKinney  ...           NaN              False\n",
              "43761  29179     Schmid  ...           NaN              False\n",
              "\n",
              "[6 rows x 11 columns]"
            ]
          },
          "metadata": {
            "tags": []
          },
          "execution_count": 6
        }
      ]
    },
    {
      "cell_type": "markdown",
      "metadata": {
        "id": "A79xpQ7bR731",
        "colab_type": "text"
      },
      "source": [
        "We can see that all the cities with 'il' value are actually from the state Illinois. So the correct State value should be 'IL'. We can think that the following values are also referring to Illinois: 'Il', 'iL', 'Il'. Let's have a look at them next."
      ]
    },
    {
      "cell_type": "markdown",
      "metadata": {
        "id": "k2QJLUIxSoYS",
        "colab_type": "text"
      },
      "source": [
        "7. Create a for loop that will iterate through the following values in State column, 'Il', 'iL', 'Il', and print for each observation the value of the variable 'City' and 'State' using the pandas method for subsetting '.loc()': 'dataframe.loc[row_condition, column condition]'"
      ]
    },
    {
      "cell_type": "code",
      "metadata": {
        "id": "km1miLj2Sdbz",
        "colab_type": "code",
        "outputId": "8b8ae4d9-df86-43b8-8c32-b53da7b59a0b",
        "colab": {
          "base_uri": "https://localhost:8080/",
          "height": 1000
        }
      },
      "source": [
        "for state in ['Il', 'iL', 'Il']:\n",
        "  print(df.loc[df['State'] == state, ['City', 'State']])"
      ],
      "execution_count": 7,
      "outputs": [
        {
          "output_type": "stream",
          "text": [
            "                  City State\n",
            "43              Ottawa    Il\n",
            "44              Ottawa    Il\n",
            "493          Galesburg    Il\n",
            "613            Chicago    Il\n",
            "614            Chicago    Il\n",
            "1035           Antioch    Il\n",
            "1375         Mundelein    Il\n",
            "1397            Gurnee    Il\n",
            "1721           Chicago    Il\n",
            "1725           Chicago    Il\n",
            "1764      Libertyville    Il\n",
            "1832   Harwood Heights    Il\n",
            "2053         Champaign    Il\n",
            "2087         Grayslake    Il\n",
            "2311     Highland Park    Il\n",
            "2526           Chicago    Il\n",
            "2527           Chicago    Il\n",
            "2684       Bourbonnais    Il\n",
            "2798            Urbana    Il\n",
            "2799            Urbana    Il\n",
            "2851         Deerfield    Il\n",
            "2931          Evanston    Il\n",
            "2932          Evanston    Il\n",
            "3081     Arlington Hts    Il\n",
            "3121       Gibson City    Il\n",
            "3283            Urbana    Il\n",
            "3387             Aledo    Il\n",
            "3509      Elmwood Park    Il\n",
            "3510      Elmwood Park    Il\n",
            "3511      Elmwood Park    Il\n",
            "...                ...   ...\n",
            "53312        Grayslake    Il\n",
            "53432   Mount Prospect    Il\n",
            "53433   Mount Prospect    Il\n",
            "53467          Chicago    Il\n",
            "53558          Chicago    Il\n",
            "53576           Chapin    Il\n",
            "53582            Carmi    Il\n",
            "53601      Springfield    Il\n",
            "53618          Chicago    Il\n",
            "53633           Chapin    Il\n",
            "53716         Hinsdale    Il\n",
            "54096          Chicago    Il\n",
            "54386      Rock Island    Il\n",
            "54500          Chicago    Il\n",
            "54566           Aurora    Il\n",
            "54567           Aurora    Il\n",
            "54623       Lake Bluff    Il\n",
            "54640          Maywood    Il\n",
            "54643          Maywood    Il\n",
            "54649      Des Plaines    Il\n",
            "54661      Des Plaines    Il\n",
            "54733       Naperville    Il\n",
            "54734       Naperville    Il\n",
            "54760          Shipman    Il\n",
            "54877          Chicago    Il\n",
            "54915          Chicago    Il\n",
            "54916          Chicago    Il\n",
            "54918          Chicago    Il\n",
            "54919          Chicago    Il\n",
            "54921          Chicago    Il\n",
            "\n",
            "[665 rows x 2 columns]\n",
            "         City State\n",
            "7052  Wheaton    iL\n",
            "                  City State\n",
            "43              Ottawa    Il\n",
            "44              Ottawa    Il\n",
            "493          Galesburg    Il\n",
            "613            Chicago    Il\n",
            "614            Chicago    Il\n",
            "1035           Antioch    Il\n",
            "1375         Mundelein    Il\n",
            "1397            Gurnee    Il\n",
            "1721           Chicago    Il\n",
            "1725           Chicago    Il\n",
            "1764      Libertyville    Il\n",
            "1832   Harwood Heights    Il\n",
            "2053         Champaign    Il\n",
            "2087         Grayslake    Il\n",
            "2311     Highland Park    Il\n",
            "2526           Chicago    Il\n",
            "2527           Chicago    Il\n",
            "2684       Bourbonnais    Il\n",
            "2798            Urbana    Il\n",
            "2799            Urbana    Il\n",
            "2851         Deerfield    Il\n",
            "2931          Evanston    Il\n",
            "2932          Evanston    Il\n",
            "3081     Arlington Hts    Il\n",
            "3121       Gibson City    Il\n",
            "3283            Urbana    Il\n",
            "3387             Aledo    Il\n",
            "3509      Elmwood Park    Il\n",
            "3510      Elmwood Park    Il\n",
            "3511      Elmwood Park    Il\n",
            "...                ...   ...\n",
            "53312        Grayslake    Il\n",
            "53432   Mount Prospect    Il\n",
            "53433   Mount Prospect    Il\n",
            "53467          Chicago    Il\n",
            "53558          Chicago    Il\n",
            "53576           Chapin    Il\n",
            "53582            Carmi    Il\n",
            "53601      Springfield    Il\n",
            "53618          Chicago    Il\n",
            "53633           Chapin    Il\n",
            "53716         Hinsdale    Il\n",
            "54096          Chicago    Il\n",
            "54386      Rock Island    Il\n",
            "54500          Chicago    Il\n",
            "54566           Aurora    Il\n",
            "54567           Aurora    Il\n",
            "54623       Lake Bluff    Il\n",
            "54640          Maywood    Il\n",
            "54643          Maywood    Il\n",
            "54649      Des Plaines    Il\n",
            "54661      Des Plaines    Il\n",
            "54733       Naperville    Il\n",
            "54734       Naperville    Il\n",
            "54760          Shipman    Il\n",
            "54877          Chicago    Il\n",
            "54915          Chicago    Il\n",
            "54916          Chicago    Il\n",
            "54918          Chicago    Il\n",
            "54919          Chicago    Il\n",
            "54921          Chicago    Il\n",
            "\n",
            "[665 rows x 2 columns]\n"
          ],
          "name": "stdout"
        }
      ]
    },
    {
      "cell_type": "markdown",
      "metadata": {
        "id": "WZJq9n4YTZOu",
        "colab_type": "text"
      },
      "source": [
        "As we thought all these cities do belong to the state of Illinois so let's replace them with the correct value."
      ]
    },
    {
      "cell_type": "markdown",
      "metadata": {
        "id": "1KgbV8TKTnqv",
        "colab_type": "text"
      },
      "source": [
        "8. Create a condition mask to subset all rows that contain the 4 incorrect values ('il', 'Il', 'iL', 'Il') using the method isin() and the list of values as parameter and save the result into a variable called il_mask:"
      ]
    },
    {
      "cell_type": "code",
      "metadata": {
        "id": "gtzB7K0K4LBq",
        "colab_type": "code",
        "colab": {}
      },
      "source": [
        "il_mask = df['State'].isin(['il', 'Il', 'iL', 'Il'])"
      ],
      "execution_count": 0,
      "outputs": []
    },
    {
      "cell_type": "markdown",
      "metadata": {
        "id": "rqUuqPv_6vKw",
        "colab_type": "text"
      },
      "source": [
        "9. Print the number of rows that matched the condition set in il_mask by using the method .sum(). This will sum all the rows with value True (ie that match the condition)."
      ]
    },
    {
      "cell_type": "code",
      "metadata": {
        "id": "wGEy6Ux17QNY",
        "colab_type": "code",
        "outputId": "95222a97-651e-4243-9725-acb02bd1bd87",
        "colab": {
          "base_uri": "https://localhost:8080/",
          "height": 34
        }
      },
      "source": [
        "il_mask.sum()"
      ],
      "execution_count": 9,
      "outputs": [
        {
          "output_type": "execute_result",
          "data": {
            "text/plain": [
              "672"
            ]
          },
          "metadata": {
            "tags": []
          },
          "execution_count": 9
        }
      ]
    },
    {
      "cell_type": "markdown",
      "metadata": {
        "id": "i6TDu1bE7THn",
        "colab_type": "text"
      },
      "source": [
        "10. Using the pandas method '.loc()', subset the rows with the condition mask il_mask and replace the value of the column 'State' with 'IL':"
      ]
    },
    {
      "cell_type": "code",
      "metadata": {
        "id": "iTERX9A1SdZD",
        "colab_type": "code",
        "colab": {}
      },
      "source": [
        "df.loc[il_mask, 'State'] = 'IL'"
      ],
      "execution_count": 0,
      "outputs": []
    },
    {
      "cell_type": "markdown",
      "metadata": {
        "id": "ZqyAL3uD7mZt",
        "colab_type": "text"
      },
      "source": [
        "11. Print out all the unique values of the variable 'State':"
      ]
    },
    {
      "cell_type": "code",
      "metadata": {
        "id": "HRWrLS1y7mn5",
        "colab_type": "code",
        "outputId": "3fb5795b-e9aa-4b68-e33e-00dc4fd2eaec",
        "colab": {
          "base_uri": "https://localhost:8080/",
          "height": 102
        }
      },
      "source": [
        "df['State'].unique()"
      ],
      "execution_count": 11,
      "outputs": [
        {
          "output_type": "execute_result",
          "data": {
            "text/plain": [
              "array(['IL', 'PA', 'DC', nan, 'WI', 'CA', 'MO', 'NC', 'IA', 'MA', 'IN',\n",
              "       'MI', 'TN', 'NY', 'ng', 'TX', 'CO', 'NV', 'WA', '8I', 'In', 'OH',\n",
              "       'SC', 'VA', 'NM', 'FL', 'LA', 'GA', 'II', 'NJ', 'MD', 'I', 'AR',\n",
              "       'KS', 'DE', '60', 'SD', 'MN', 'VT', 'OK', 'KY', 'CT', 'NH', 'AZ',\n",
              "       'OR', 'PR', 'RI'], dtype=object)"
            ]
          },
          "metadata": {
            "tags": []
          },
          "execution_count": 11
        }
      ]
    },
    {
      "cell_type": "markdown",
      "metadata": {
        "id": "w5aRG__t7xrW",
        "colab_type": "text"
      },
      "source": [
        "Great! We see that the 4 incorrect values are not present anymore. Let's have a look at the other remaining incorrect values: 'II', 'I', '8I', '60'."
      ]
    },
    {
      "cell_type": "markdown",
      "metadata": {
        "id": "Z0hLC3i2727p",
        "colab_type": "text"
      },
      "source": [
        "12. Print out the rows that have the value 'II' in the column 'State' using  the pandas subsetting API, dataframe.loc[row_condition, column_condition]:\n",
        "\n"
      ]
    },
    {
      "cell_type": "code",
      "metadata": {
        "id": "vJWBdglfSg32",
        "colab_type": "code",
        "outputId": "619c7a07-5d1b-4406-d8bc-3a15e2a18c1a",
        "colab": {
          "base_uri": "https://localhost:8080/",
          "height": 111
        }
      },
      "source": [
        "df.loc[df['State'] == 'II',]"
      ],
      "execution_count": 12,
      "outputs": [
        {
          "output_type": "execute_result",
          "data": {
            "text/html": [
              "<div>\n",
              "<style scoped>\n",
              "    .dataframe tbody tr th:only-of-type {\n",
              "        vertical-align: middle;\n",
              "    }\n",
              "\n",
              "    .dataframe tbody tr th {\n",
              "        vertical-align: top;\n",
              "    }\n",
              "\n",
              "    .dataframe thead th {\n",
              "        text-align: right;\n",
              "    }\n",
              "</style>\n",
              "<table border=\"1\" class=\"dataframe\">\n",
              "  <thead>\n",
              "    <tr style=\"text-align: right;\">\n",
              "      <th></th>\n",
              "      <th>ID</th>\n",
              "      <th>LastName</th>\n",
              "      <th>FirstName</th>\n",
              "      <th>Address1</th>\n",
              "      <th>Address2</th>\n",
              "      <th>City</th>\n",
              "      <th>State</th>\n",
              "      <th>Zip</th>\n",
              "      <th>Title</th>\n",
              "      <th>Phone</th>\n",
              "      <th>RedactionRequested</th>\n",
              "    </tr>\n",
              "  </thead>\n",
              "  <tbody>\n",
              "    <tr>\n",
              "      <th>14340</th>\n",
              "      <td>28039</td>\n",
              "      <td>Feken</td>\n",
              "      <td>Winifred Lee</td>\n",
              "      <td>2027 Ireland Grove Rd</td>\n",
              "      <td>NaN</td>\n",
              "      <td>Bloomington</td>\n",
              "      <td>II</td>\n",
              "      <td>61704</td>\n",
              "      <td>Co-Chairman</td>\n",
              "      <td>309/663-2188</td>\n",
              "      <td>False</td>\n",
              "    </tr>\n",
              "    <tr>\n",
              "      <th>14341</th>\n",
              "      <td>31994</td>\n",
              "      <td>Feken</td>\n",
              "      <td>Winnie</td>\n",
              "      <td>2027 Ireland Grove Rd</td>\n",
              "      <td>NaN</td>\n",
              "      <td>Bloomington</td>\n",
              "      <td>II</td>\n",
              "      <td>61704</td>\n",
              "      <td>Chairman</td>\n",
              "      <td>309/662-1648</td>\n",
              "      <td>False</td>\n",
              "    </tr>\n",
              "  </tbody>\n",
              "</table>\n",
              "</div>"
            ],
            "text/plain": [
              "          ID LastName  ...         Phone RedactionRequested\n",
              "14340  28039    Feken  ...  309/663-2188              False\n",
              "14341  31994    Feken  ...  309/662-1648              False\n",
              "\n",
              "[2 rows x 11 columns]"
            ]
          },
          "metadata": {
            "tags": []
          },
          "execution_count": 12
        }
      ]
    },
    {
      "cell_type": "markdown",
      "metadata": {
        "id": "sOpicrUFUPLu",
        "colab_type": "text"
      },
      "source": [
        "There are only 2 cases with the value 'II' for the 'State' column and both of them have Bloomington as city which is in Illinois. So the correct 'State' value should be 'IL' instead."
      ]
    },
    {
      "cell_type": "markdown",
      "metadata": {
        "id": "S4fwpgmGVXcz",
        "colab_type": "text"
      },
      "source": [
        "13. Create a for loop that iterates through the 3 other incorrect values ('I', '8I', '60') and print out the subsetted rows using the same logic as in step 12 but only displaying the columns 'City' and 'State':"
      ]
    },
    {
      "cell_type": "code",
      "metadata": {
        "id": "97iBIGphCH7D",
        "colab_type": "code",
        "outputId": "48f54179-6698-457d-8136-5172f6661ea6",
        "colab": {
          "base_uri": "https://localhost:8080/",
          "height": 119
        }
      },
      "source": [
        "for val in ['I', '8I', '60']:\n",
        "  print(df.loc[df['State'] == val, ['City', 'State']])"
      ],
      "execution_count": 13,
      "outputs": [
        {
          "output_type": "stream",
          "text": [
            "              City State\n",
            "17596  Bloomington     I\n",
            "             City State\n",
            "5513  Springfield    8I\n",
            "          City State\n",
            "28060  Chicago    60\n"
          ],
          "name": "stdout"
        }
      ]
    },
    {
      "cell_type": "markdown",
      "metadata": {
        "id": "xpmycMvgXFbQ",
        "colab_type": "text"
      },
      "source": [
        "All the observations with these incorrect values are cities from Illinois. Let's fix them now."
      ]
    },
    {
      "cell_type": "markdown",
      "metadata": {
        "id": "uxNLXZt6X0m8",
        "colab_type": "text"
      },
      "source": [
        "14. Create a for loop that iterates through the 4 incorrect values ('II', 'I', '8I', '60') and reuse the subsetting logic from step 12 to replace the value in 'State' to 'IL':"
      ]
    },
    {
      "cell_type": "code",
      "metadata": {
        "id": "ooHQO3ynBwHJ",
        "colab_type": "code",
        "colab": {}
      },
      "source": [
        "for val in ['II', 'I', '8I', '60']:\n",
        "  df.loc[df['State'] == val, 'State'] = 'IL'"
      ],
      "execution_count": 0,
      "outputs": []
    },
    {
      "cell_type": "markdown",
      "metadata": {
        "id": "08mMpXdxZM_j",
        "colab_type": "text"
      },
      "source": [
        "15. Print out all the unique values of the variable 'State':"
      ]
    },
    {
      "cell_type": "code",
      "metadata": {
        "id": "6S6K8zSJZPxy",
        "colab_type": "code",
        "outputId": "a4fddc58-9d3f-450a-c71c-29b6c38037d8",
        "colab": {
          "base_uri": "https://localhost:8080/",
          "height": 102
        }
      },
      "source": [
        "df['State'].unique()"
      ],
      "execution_count": 15,
      "outputs": [
        {
          "output_type": "execute_result",
          "data": {
            "text/plain": [
              "array(['IL', 'PA', 'DC', nan, 'WI', 'CA', 'MO', 'NC', 'IA', 'MA', 'IN',\n",
              "       'MI', 'TN', 'NY', 'ng', 'TX', 'CO', 'NV', 'WA', 'In', 'OH', 'SC',\n",
              "       'VA', 'NM', 'FL', 'LA', 'GA', 'NJ', 'MD', 'AR', 'KS', 'DE', 'SD',\n",
              "       'MN', 'VT', 'OK', 'KY', 'CT', 'NH', 'AZ', 'OR', 'PR', 'RI'],\n",
              "      dtype=object)"
            ]
          },
          "metadata": {
            "tags": []
          },
          "execution_count": 15
        }
      ]
    },
    {
      "cell_type": "markdown",
      "metadata": {
        "id": "xoggSNd-ZlHV",
        "colab_type": "text"
      },
      "source": [
        "Great Job! We fixed the issues for the state of Illinois. But there is still 2 more incorrect values in this column: 'In' and 'ng'."
      ]
    },
    {
      "cell_type": "markdown",
      "metadata": {
        "id": "rQmRrQZickO8",
        "colab_type": "text"
      },
      "source": [
        "16. Repeat step 13 but iterating through the values 'In' and 'ng' instead:"
      ]
    },
    {
      "cell_type": "code",
      "metadata": {
        "id": "owFR6OfLct8P",
        "colab_type": "code",
        "outputId": "fe7a59ca-be73-4fc4-aef5-07047c92e6cf",
        "colab": {
          "base_uri": "https://localhost:8080/",
          "height": 102
        }
      },
      "source": [
        "for val in ['In', 'ng']:\n",
        "  print(df.loc[df['State'] == val, ['City', 'State']])"
      ],
      "execution_count": 16,
      "outputs": [
        {
          "output_type": "stream",
          "text": [
            "           City State\n",
            "5733  Sherville    In\n",
            "            City State\n",
            "2428  none given    ng\n",
            "2961  none given    ng\n"
          ],
          "name": "stdout"
        }
      ]
    },
    {
      "cell_type": "markdown",
      "metadata": {
        "id": "QNQaRRpzcyEq",
        "colab_type": "text"
      },
      "source": [
        "The rows with the value 'ng' in 'State' are actually missing values and we will cover this topic in the next section. The observation with 'In' is actually a city from Indiana so the correct value should be 'IN'. Let's fix it."
      ]
    },
    {
      "cell_type": "markdown",
      "metadata": {
        "id": "HU237EqLdJuN",
        "colab_type": "text"
      },
      "source": [
        "17. Subset the rows containing the value 'In' in 'State' using the methods '.loc()' and '.str.contains()' and replace the state value with 'IN'. Don't forget to specify the parameter 'na=False' to '.str.contains()': "
      ]
    },
    {
      "cell_type": "code",
      "metadata": {
        "id": "OzdeI3BEdJ_C",
        "colab_type": "code",
        "colab": {}
      },
      "source": [
        "df.loc[df['State'].str.contains('In', na=False), 'State'] = 'IN'"
      ],
      "execution_count": 0,
      "outputs": []
    },
    {
      "cell_type": "markdown",
      "metadata": {
        "id": "fEGKgTfld2SJ",
        "colab_type": "text"
      },
      "source": [
        "18. Print out all the unique values of the variable 'State':"
      ]
    },
    {
      "cell_type": "code",
      "metadata": {
        "id": "5wfMCwspd2YY",
        "colab_type": "code",
        "outputId": "fbf76461-2536-491d-fce0-088570839398",
        "colab": {
          "base_uri": "https://localhost:8080/",
          "height": 85
        }
      },
      "source": [
        "df['State'].unique()"
      ],
      "execution_count": 18,
      "outputs": [
        {
          "output_type": "execute_result",
          "data": {
            "text/plain": [
              "array(['IL', 'PA', 'DC', nan, 'WI', 'CA', 'MO', 'NC', 'IA', 'MA', 'IN',\n",
              "       'MI', 'TN', 'NY', 'ng', 'TX', 'CO', 'NV', 'WA', 'OH', 'SC', 'VA',\n",
              "       'NM', 'FL', 'LA', 'GA', 'NJ', 'MD', 'AR', 'KS', 'DE', 'SD', 'MN',\n",
              "       'VT', 'OK', 'KY', 'CT', 'NH', 'AZ', 'OR', 'PR', 'RI'], dtype=object)"
            ]
          },
          "metadata": {
            "tags": []
          },
          "execution_count": 18
        }
      ]
    },
    {
      "cell_type": "markdown",
      "metadata": {
        "id": "mwBmoT4md7s9",
        "colab_type": "text"
      },
      "source": [
        "Excellent! We just fixed all the incorrect values for the variable 'State' using the methods provided by the package 'pandas'. We haven't handled the missing value cases but this will be the topic of the next section."
      ]
    }
  ]
}