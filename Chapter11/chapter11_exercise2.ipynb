{
  "nbformat": 4,
  "nbformat_minor": 0,
  "metadata": {
    "colab": {
      "name": "chapter11-exercise2.ipynb",
      "provenance": [],
      "collapsed_sections": []
    },
    "kernelspec": {
      "name": "python3",
      "display_name": "Python 3"
    }
  },
  "cells": [
    {
      "cell_type": "markdown",
      "metadata": {
        "id": "37vrnAFPW6_C",
        "colab_type": "text"
      },
      "source": [
        "#Exercise 2: Convert data type for Ames Housing dataset\n",
        "In this exercise, we will practise how to prepare a dataset by converting its variables to different data types.\n",
        "The dataset used for this exercise is the Ames Housing dataset compiled by Dean De Cock: http://www.amstat.org/publications/jse/v19n3/decock.pdf"
      ]
    },
    {
      "cell_type": "markdown",
      "metadata": {
        "id": "2Ox-pHUPX78-",
        "colab_type": "text"
      },
      "source": [
        "1. Open on a new Colab notebook and import the pandas package"
      ]
    },
    {
      "cell_type": "code",
      "metadata": {
        "id": "HEiOAwQPW0qb",
        "colab_type": "code",
        "colab": {}
      },
      "source": [
        "import pandas as pd"
      ],
      "execution_count": 0,
      "outputs": []
    },
    {
      "cell_type": "markdown",
      "metadata": {
        "id": "C6NbwMIwX_84",
        "colab_type": "text"
      },
      "source": [
        "2. Assign the link to the AMES dataset to a variable called 'file_url':"
      ]
    },
    {
      "cell_type": "code",
      "metadata": {
        "id": "j7whidfaYjns",
        "colab_type": "code",
        "colab": {}
      },
      "source": [
        "file_url = 'https://raw.githubusercontent.com/TrainingByPackt/The-Data-Science-Workshop/master/Chapter10/dataset/ames_iowa_housing.csv'"
      ],
      "execution_count": 0,
      "outputs": []
    },
    {
      "cell_type": "markdown",
      "metadata": {
        "id": "VzoH_wvLuD0p",
        "colab_type": "text"
      },
      "source": [
        "3. Using the read_csv method from the package pandas, load the dataset into a new variable called 'df':"
      ]
    },
    {
      "cell_type": "code",
      "metadata": {
        "id": "nFMz2jNVt-xy",
        "colab_type": "code",
        "colab": {}
      },
      "source": [
        "df = pd.read_csv(file_url)"
      ],
      "execution_count": 0,
      "outputs": []
    },
    {
      "cell_type": "markdown",
      "metadata": {
        "id": "garzi94On5x9",
        "colab_type": "text"
      },
      "source": [
        "4. Print the data type of each column using the attributes 'dtypes':"
      ]
    },
    {
      "cell_type": "code",
      "metadata": {
        "id": "VFZSIuUjddvZ",
        "colab_type": "code",
        "outputId": "a861efb3-4275-4c12-d3c4-0cede7f3f299",
        "colab": {
          "base_uri": "https://localhost:8080/",
          "height": 1000
        }
      },
      "source": [
        "df.dtypes"
      ],
      "execution_count": 4,
      "outputs": [
        {
          "output_type": "execute_result",
          "data": {
            "text/plain": [
              "Id                 int64\n",
              "MSSubClass         int64\n",
              "MSZoning          object\n",
              "LotFrontage      float64\n",
              "LotArea            int64\n",
              "Street            object\n",
              "Alley             object\n",
              "LotShape          object\n",
              "LandContour       object\n",
              "Utilities         object\n",
              "LotConfig         object\n",
              "LandSlope         object\n",
              "Neighborhood      object\n",
              "Condition1        object\n",
              "Condition2        object\n",
              "BldgType          object\n",
              "HouseStyle        object\n",
              "OverallQual        int64\n",
              "OverallCond        int64\n",
              "YearBuilt          int64\n",
              "YearRemodAdd       int64\n",
              "RoofStyle         object\n",
              "RoofMatl          object\n",
              "Exterior1st       object\n",
              "Exterior2nd       object\n",
              "MasVnrType        object\n",
              "MasVnrArea       float64\n",
              "ExterQual         object\n",
              "ExterCond         object\n",
              "Foundation        object\n",
              "                  ...   \n",
              "BedroomAbvGr       int64\n",
              "KitchenAbvGr       int64\n",
              "KitchenQual       object\n",
              "TotRmsAbvGrd       int64\n",
              "Functional        object\n",
              "Fireplaces         int64\n",
              "FireplaceQu       object\n",
              "GarageType        object\n",
              "GarageYrBlt      float64\n",
              "GarageFinish      object\n",
              "GarageCars         int64\n",
              "GarageArea         int64\n",
              "GarageQual        object\n",
              "GarageCond        object\n",
              "PavedDrive        object\n",
              "WoodDeckSF         int64\n",
              "OpenPorchSF        int64\n",
              "EnclosedPorch      int64\n",
              "3SsnPorch          int64\n",
              "ScreenPorch        int64\n",
              "PoolArea           int64\n",
              "PoolQC            object\n",
              "Fence             object\n",
              "MiscFeature       object\n",
              "MiscVal            int64\n",
              "MoSold             int64\n",
              "YrSold             int64\n",
              "SaleType          object\n",
              "SaleCondition     object\n",
              "SalePrice          int64\n",
              "Length: 81, dtype: object"
            ]
          },
          "metadata": {
            "tags": []
          },
          "execution_count": 4
        }
      ]
    },
    {
      "cell_type": "markdown",
      "metadata": {
        "id": "WX8MQk2QtrQq",
        "colab_type": "text"
      },
      "source": [
        "From chapter 10, we know the columns 'Id', 'MSSubClass', 'OverallQual' and 'OverallCond' are wrongly classified as numerical variables. They have a finite number of unique values and we can't perform any mathematical operations on them. For example, it doesn't make sence to add, remove, multiply or divide 2 different values from the 'Id' column. So we are going to convert them into categorical variables."
      ]
    },
    {
      "cell_type": "markdown",
      "metadata": {
        "id": "-Tl69Ni2oMaf",
        "colab_type": "text"
      },
      "source": [
        "5. Using the method astype(), convert the column 'Id' into a categorical variable:"
      ]
    },
    {
      "cell_type": "code",
      "metadata": {
        "id": "mWw1dgZTgh5r",
        "colab_type": "code",
        "colab": {}
      },
      "source": [
        "df['Id'] = df['Id'].astype('category')"
      ],
      "execution_count": 0,
      "outputs": []
    },
    {
      "cell_type": "markdown",
      "metadata": {
        "id": "ptvD3coYodzf",
        "colab_type": "text"
      },
      "source": [
        "6. Convert the columns 'MSSubClass', 'OverallQual' and 'OverallCond' into categorical variables as in step 5:"
      ]
    },
    {
      "cell_type": "code",
      "metadata": {
        "id": "L9012mdDoiID",
        "colab_type": "code",
        "colab": {}
      },
      "source": [
        "df['MSSubClass'] = df['MSSubClass'].astype('category')\n",
        "df['OverallQual'] = df['OverallQual'].astype('category')\n",
        "df['OverallCond'] = df['OverallCond'].astype('category')"
      ],
      "execution_count": 0,
      "outputs": []
    },
    {
      "cell_type": "markdown",
      "metadata": {
        "id": "b9eEC_o8pXCk",
        "colab_type": "text"
      },
      "source": [
        "7. Create a for loop that will iterate through the 4 categorical columns ('Id', 'MSSubClass', 'OverallQual' and 'OverallCond') and print their names and categories using the attribute '.cat.categories':"
      ]
    },
    {
      "cell_type": "code",
      "metadata": {
        "id": "uiLlKYp1p1Lp",
        "colab_type": "code",
        "outputId": "4a2e0dff-4647-468a-d237-553473ba3c70",
        "colab": {
          "base_uri": "https://localhost:8080/",
          "height": 204
        }
      },
      "source": [
        "for col_name in ['Id', 'MSSubClass', 'OverallQual', 'OverallCond']:\n",
        "  print(col_name)\n",
        "  print(df[col_name].cat.categories)"
      ],
      "execution_count": 7,
      "outputs": [
        {
          "output_type": "stream",
          "text": [
            "Id\n",
            "Int64Index([   1,    2,    3,    4,    5,    6,    7,    8,    9,   10,\n",
            "            ...\n",
            "            1451, 1452, 1453, 1454, 1455, 1456, 1457, 1458, 1459, 1460],\n",
            "           dtype='int64', length=1460)\n",
            "MSSubClass\n",
            "Int64Index([20, 30, 40, 45, 50, 60, 70, 75, 80, 85, 90, 120, 160, 180, 190], dtype='int64')\n",
            "OverallQual\n",
            "Int64Index([1, 2, 3, 4, 5, 6, 7, 8, 9, 10], dtype='int64')\n",
            "OverallCond\n",
            "Int64Index([1, 2, 3, 4, 5, 6, 7, 8, 9], dtype='int64')\n"
          ],
          "name": "stdout"
        }
      ]
    },
    {
      "cell_type": "markdown",
      "metadata": {
        "id": "bcTDSrw4uyEI",
        "colab_type": "text"
      },
      "source": [
        "Great! Now these 4 columns are converted into categorical variables. From the output of step 4, we also saw a lot of variables of type 'object'. Let's have a look at them and see of they need to be converted as well."
      ]
    },
    {
      "cell_type": "markdown",
      "metadata": {
        "id": "3EqWL0KxqQ_H",
        "colab_type": "text"
      },
      "source": [
        "8. Create a new dataframe called 'obj_df' that will only contain variables of type 'object' using the method 'select_dtypes' and the parameter include='object':"
      ]
    },
    {
      "cell_type": "code",
      "metadata": {
        "id": "eLSewbSud4vl",
        "colab_type": "code",
        "colab": {}
      },
      "source": [
        "obj_df = df.select_dtypes(include='object')"
      ],
      "execution_count": 0,
      "outputs": []
    },
    {
      "cell_type": "markdown",
      "metadata": {
        "id": "rgNEbjiLqutt",
        "colab_type": "text"
      },
      "source": [
        "9. Create a new variable called obj_cols containing the list of column names from the dataframe obj_df using the attributes '.columns' and display its content:"
      ]
    },
    {
      "cell_type": "code",
      "metadata": {
        "id": "U3FmCwWrqu0-",
        "colab_type": "code",
        "outputId": "7ceb0f72-99df-4b56-efdb-4a3016283e54",
        "colab": {
          "base_uri": "https://localhost:8080/",
          "height": 187
        }
      },
      "source": [
        "obj_cols = obj_df.columns\n",
        "obj_cols"
      ],
      "execution_count": 9,
      "outputs": [
        {
          "output_type": "execute_result",
          "data": {
            "text/plain": [
              "Index(['MSZoning', 'Street', 'Alley', 'LotShape', 'LandContour', 'Utilities',\n",
              "       'LotConfig', 'LandSlope', 'Neighborhood', 'Condition1', 'Condition2',\n",
              "       'BldgType', 'HouseStyle', 'RoofStyle', 'RoofMatl', 'Exterior1st',\n",
              "       'Exterior2nd', 'MasVnrType', 'ExterQual', 'ExterCond', 'Foundation',\n",
              "       'BsmtQual', 'BsmtCond', 'BsmtExposure', 'BsmtFinType1', 'BsmtFinType2',\n",
              "       'Heating', 'HeatingQC', 'CentralAir', 'Electrical', 'KitchenQual',\n",
              "       'Functional', 'FireplaceQu', 'GarageType', 'GarageFinish', 'GarageQual',\n",
              "       'GarageCond', 'PavedDrive', 'PoolQC', 'Fence', 'MiscFeature',\n",
              "       'SaleType', 'SaleCondition'],\n",
              "      dtype='object')"
            ]
          },
          "metadata": {
            "tags": []
          },
          "execution_count": 9
        }
      ]
    },
    {
      "cell_type": "markdown",
      "metadata": {
        "id": "_itmpRxmrUQN",
        "colab_type": "text"
      },
      "source": [
        "10. Similarly to step 7, create a for loop that will iterate through the columns names contained in 'obj_cols' and print their names and unique values using the method 'unique()':"
      ]
    },
    {
      "cell_type": "code",
      "metadata": {
        "id": "Dc7pw1ZufBdL",
        "colab_type": "code",
        "outputId": "585513e2-5373-44e2-b2fd-63cb9d3642ae",
        "colab": {
          "base_uri": "https://localhost:8080/",
          "height": 1000
        }
      },
      "source": [
        "for col_name in obj_cols:\n",
        "  print(col_name)\n",
        "  print(df[col_name].unique())"
      ],
      "execution_count": 10,
      "outputs": [
        {
          "output_type": "stream",
          "text": [
            "MSZoning\n",
            "['RL' 'RM' 'C (all)' 'FV' 'RH']\n",
            "Street\n",
            "['Pave' 'Grvl']\n",
            "Alley\n",
            "[nan 'Grvl' 'Pave']\n",
            "LotShape\n",
            "['Reg' 'IR1' 'IR2' 'IR3']\n",
            "LandContour\n",
            "['Lvl' 'Bnk' 'Low' 'HLS']\n",
            "Utilities\n",
            "['AllPub' 'NoSeWa']\n",
            "LotConfig\n",
            "['Inside' 'FR2' 'Corner' 'CulDSac' 'FR3']\n",
            "LandSlope\n",
            "['Gtl' 'Mod' 'Sev']\n",
            "Neighborhood\n",
            "['CollgCr' 'Veenker' 'Crawfor' 'NoRidge' 'Mitchel' 'Somerst' 'NWAmes'\n",
            " 'OldTown' 'BrkSide' 'Sawyer' 'NridgHt' 'NAmes' 'SawyerW' 'IDOTRR'\n",
            " 'MeadowV' 'Edwards' 'Timber' 'Gilbert' 'StoneBr' 'ClearCr' 'NPkVill'\n",
            " 'Blmngtn' 'BrDale' 'SWISU' 'Blueste']\n",
            "Condition1\n",
            "['Norm' 'Feedr' 'PosN' 'Artery' 'RRAe' 'RRNn' 'RRAn' 'PosA' 'RRNe']\n",
            "Condition2\n",
            "['Norm' 'Artery' 'RRNn' 'Feedr' 'PosN' 'PosA' 'RRAn' 'RRAe']\n",
            "BldgType\n",
            "['1Fam' '2fmCon' 'Duplex' 'TwnhsE' 'Twnhs']\n",
            "HouseStyle\n",
            "['2Story' '1Story' '1.5Fin' '1.5Unf' 'SFoyer' 'SLvl' '2.5Unf' '2.5Fin']\n",
            "RoofStyle\n",
            "['Gable' 'Hip' 'Gambrel' 'Mansard' 'Flat' 'Shed']\n",
            "RoofMatl\n",
            "['CompShg' 'WdShngl' 'Metal' 'WdShake' 'Membran' 'Tar&Grv' 'Roll'\n",
            " 'ClyTile']\n",
            "Exterior1st\n",
            "['VinylSd' 'MetalSd' 'Wd Sdng' 'HdBoard' 'BrkFace' 'WdShing' 'CemntBd'\n",
            " 'Plywood' 'AsbShng' 'Stucco' 'BrkComm' 'AsphShn' 'Stone' 'ImStucc'\n",
            " 'CBlock']\n",
            "Exterior2nd\n",
            "['VinylSd' 'MetalSd' 'Wd Shng' 'HdBoard' 'Plywood' 'Wd Sdng' 'CmentBd'\n",
            " 'BrkFace' 'Stucco' 'AsbShng' 'Brk Cmn' 'ImStucc' 'AsphShn' 'Stone'\n",
            " 'Other' 'CBlock']\n",
            "MasVnrType\n",
            "['BrkFace' 'None' 'Stone' 'BrkCmn' nan]\n",
            "ExterQual\n",
            "['Gd' 'TA' 'Ex' 'Fa']\n",
            "ExterCond\n",
            "['TA' 'Gd' 'Fa' 'Po' 'Ex']\n",
            "Foundation\n",
            "['PConc' 'CBlock' 'BrkTil' 'Wood' 'Slab' 'Stone']\n",
            "BsmtQual\n",
            "['Gd' 'TA' 'Ex' nan 'Fa']\n",
            "BsmtCond\n",
            "['TA' 'Gd' nan 'Fa' 'Po']\n",
            "BsmtExposure\n",
            "['No' 'Gd' 'Mn' 'Av' nan]\n",
            "BsmtFinType1\n",
            "['GLQ' 'ALQ' 'Unf' 'Rec' 'BLQ' nan 'LwQ']\n",
            "BsmtFinType2\n",
            "['Unf' 'BLQ' nan 'ALQ' 'Rec' 'LwQ' 'GLQ']\n",
            "Heating\n",
            "['GasA' 'GasW' 'Grav' 'Wall' 'OthW' 'Floor']\n",
            "HeatingQC\n",
            "['Ex' 'Gd' 'TA' 'Fa' 'Po']\n",
            "CentralAir\n",
            "['Y' 'N']\n",
            "Electrical\n",
            "['SBrkr' 'FuseF' 'FuseA' 'FuseP' 'Mix' nan]\n",
            "KitchenQual\n",
            "['Gd' 'TA' 'Ex' 'Fa']\n",
            "Functional\n",
            "['Typ' 'Min1' 'Maj1' 'Min2' 'Mod' 'Maj2' 'Sev']\n",
            "FireplaceQu\n",
            "[nan 'TA' 'Gd' 'Fa' 'Ex' 'Po']\n",
            "GarageType\n",
            "['Attchd' 'Detchd' 'BuiltIn' 'CarPort' nan 'Basment' '2Types']\n",
            "GarageFinish\n",
            "['RFn' 'Unf' 'Fin' nan]\n",
            "GarageQual\n",
            "['TA' 'Fa' 'Gd' nan 'Ex' 'Po']\n",
            "GarageCond\n",
            "['TA' 'Fa' nan 'Gd' 'Po' 'Ex']\n",
            "PavedDrive\n",
            "['Y' 'N' 'P']\n",
            "PoolQC\n",
            "[nan 'Ex' 'Fa' 'Gd']\n",
            "Fence\n",
            "[nan 'MnPrv' 'GdWo' 'GdPrv' 'MnWw']\n",
            "MiscFeature\n",
            "[nan 'Shed' 'Gar2' 'Othr' 'TenC']\n",
            "SaleType\n",
            "['WD' 'New' 'COD' 'ConLD' 'ConLI' 'CWD' 'ConLw' 'Con' 'Oth']\n",
            "SaleCondition\n",
            "['Normal' 'Abnorml' 'Partial' 'AdjLand' 'Alloca' 'Family']\n"
          ],
          "name": "stdout"
        }
      ]
    },
    {
      "cell_type": "markdown",
      "metadata": {
        "id": "DuTm_lYOr57o",
        "colab_type": "text"
      },
      "source": [
        "We can see all these columns have a finite number of unique values composed of text so we are certain they are categorical variables."
      ]
    },
    {
      "cell_type": "markdown",
      "metadata": {
        "id": "nyLDKZI6sK4n",
        "colab_type": "text"
      },
      "source": [
        "11. Create a for loop that will iterate through the columns names contained in 'obj_cols' and convert each of them into a categorical variable using the method 'astype()':"
      ]
    },
    {
      "cell_type": "code",
      "metadata": {
        "id": "6OgiuQVwfQ-l",
        "colab_type": "code",
        "colab": {}
      },
      "source": [
        "for col_name in obj_cols:\n",
        "  df[col_name] = df[col_name].astype('category')"
      ],
      "execution_count": 0,
      "outputs": []
    },
    {
      "cell_type": "markdown",
      "metadata": {
        "id": "kkMaKhIAsb-6",
        "colab_type": "text"
      },
      "source": [
        "12. Print the data type of each column using the attributes 'dtypes':"
      ]
    },
    {
      "cell_type": "code",
      "metadata": {
        "id": "0z64JDTcfaXv",
        "colab_type": "code",
        "outputId": "3a1c7815-f5b5-4db6-84c1-1827ff03ad5a",
        "colab": {
          "base_uri": "https://localhost:8080/",
          "height": 1000
        }
      },
      "source": [
        "df.dtypes"
      ],
      "execution_count": 12,
      "outputs": [
        {
          "output_type": "execute_result",
          "data": {
            "text/plain": [
              "Id               category\n",
              "MSSubClass       category\n",
              "MSZoning         category\n",
              "LotFrontage       float64\n",
              "LotArea             int64\n",
              "Street           category\n",
              "Alley            category\n",
              "LotShape         category\n",
              "LandContour      category\n",
              "Utilities        category\n",
              "LotConfig        category\n",
              "LandSlope        category\n",
              "Neighborhood     category\n",
              "Condition1       category\n",
              "Condition2       category\n",
              "BldgType         category\n",
              "HouseStyle       category\n",
              "OverallQual      category\n",
              "OverallCond      category\n",
              "YearBuilt           int64\n",
              "YearRemodAdd        int64\n",
              "RoofStyle        category\n",
              "RoofMatl         category\n",
              "Exterior1st      category\n",
              "Exterior2nd      category\n",
              "MasVnrType       category\n",
              "MasVnrArea        float64\n",
              "ExterQual        category\n",
              "ExterCond        category\n",
              "Foundation       category\n",
              "                   ...   \n",
              "BedroomAbvGr        int64\n",
              "KitchenAbvGr        int64\n",
              "KitchenQual      category\n",
              "TotRmsAbvGrd        int64\n",
              "Functional       category\n",
              "Fireplaces          int64\n",
              "FireplaceQu      category\n",
              "GarageType       category\n",
              "GarageYrBlt       float64\n",
              "GarageFinish     category\n",
              "GarageCars          int64\n",
              "GarageArea          int64\n",
              "GarageQual       category\n",
              "GarageCond       category\n",
              "PavedDrive       category\n",
              "WoodDeckSF          int64\n",
              "OpenPorchSF         int64\n",
              "EnclosedPorch       int64\n",
              "3SsnPorch           int64\n",
              "ScreenPorch         int64\n",
              "PoolArea            int64\n",
              "PoolQC           category\n",
              "Fence            category\n",
              "MiscFeature      category\n",
              "MiscVal             int64\n",
              "MoSold              int64\n",
              "YrSold              int64\n",
              "SaleType         category\n",
              "SaleCondition    category\n",
              "SalePrice           int64\n",
              "Length: 81, dtype: object"
            ]
          },
          "metadata": {
            "tags": []
          },
          "execution_count": 12
        }
      ]
    },
    {
      "cell_type": "markdown",
      "metadata": {
        "id": "-GGO2RAewHZ-",
        "colab_type": "text"
      },
      "source": [
        "Perfect! You have successfully converted the columns with incorrect data types (numerical or object) into categorical variables. Your dataset is now one step cleaner."
      ]
    }
  ]
}