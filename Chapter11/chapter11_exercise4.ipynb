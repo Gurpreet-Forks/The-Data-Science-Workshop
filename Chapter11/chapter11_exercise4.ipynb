{
  "nbformat": 4,
  "nbformat_minor": 0,
  "metadata": {
    "colab": {
      "name": "chapter11-exercise4.ipynb",
      "provenance": [],
      "collapsed_sections": []
    },
    "kernelspec": {
      "name": "python3",
      "display_name": "Python 3"
    }
  },
  "cells": [
    {
      "cell_type": "markdown",
      "metadata": {
        "id": "37vrnAFPW6_C",
        "colab_type": "text"
      },
      "source": [
        "#Exercise 4: Fix missing values for the Horse Colic dataset\n",
        "In this exercise, we will be cleaning all missing values for all the numerical variables of the Horse Colic dataset.\n",
        "The original dataset has been shared by Mary McLeish & Matt Cecile from the University of Guelph: http://archive.ics.uci.edu/ml/datasets/horse+colic"
      ]
    },
    {
      "cell_type": "markdown",
      "metadata": {
        "id": "2Ox-pHUPX78-",
        "colab_type": "text"
      },
      "source": [
        "1. Open on a new Colab notebook and import the pandas package"
      ]
    },
    {
      "cell_type": "code",
      "metadata": {
        "id": "HEiOAwQPW0qb",
        "colab_type": "code",
        "colab": {}
      },
      "source": [
        "import pandas as pd"
      ],
      "execution_count": 0,
      "outputs": []
    },
    {
      "cell_type": "markdown",
      "metadata": {
        "id": "C6NbwMIwX_84",
        "colab_type": "text"
      },
      "source": [
        "2. Assign the link to the dataset to a variable called 'file_url':"
      ]
    },
    {
      "cell_type": "code",
      "metadata": {
        "id": "j7whidfaYjns",
        "colab_type": "code",
        "colab": {}
      },
      "source": [
        "file_url = 'https://raw.githubusercontent.com/TrainingByPackt/The-Data-Science-Workshop/master/Chapter11/horse-colic.data'"
      ],
      "execution_count": 0,
      "outputs": []
    },
    {
      "cell_type": "markdown",
      "metadata": {
        "id": "VzoH_wvLuD0p",
        "colab_type": "text"
      },
      "source": [
        "3. Using the .read_csv() method from the package pandas, load the dataset into a new variable called 'df' and specify the parameters header=None, sep='\\s+' and prefix='X':"
      ]
    },
    {
      "cell_type": "code",
      "metadata": {
        "id": "nFMz2jNVt-xy",
        "colab_type": "code",
        "colab": {}
      },
      "source": [
        "df = pd.read_csv(file_url, header=None, sep='\\s+', prefix='X')"
      ],
      "execution_count": 0,
      "outputs": []
    },
    {
      "cell_type": "markdown",
      "metadata": {
        "id": "garzi94On5x9",
        "colab_type": "text"
      },
      "source": [
        "4. Print the first 5 rows of the dataframe using the method .head():"
      ]
    },
    {
      "cell_type": "code",
      "metadata": {
        "id": "n0xY9ATvN6-M",
        "colab_type": "code",
        "outputId": "6f00adfd-3156-41d9-e7c1-ad3655011c71",
        "colab": {
          "base_uri": "https://localhost:8080/",
          "height": 204
        }
      },
      "source": [
        "df.head()"
      ],
      "execution_count": 4,
      "outputs": [
        {
          "output_type": "execute_result",
          "data": {
            "text/html": [
              "<div>\n",
              "<style scoped>\n",
              "    .dataframe tbody tr th:only-of-type {\n",
              "        vertical-align: middle;\n",
              "    }\n",
              "\n",
              "    .dataframe tbody tr th {\n",
              "        vertical-align: top;\n",
              "    }\n",
              "\n",
              "    .dataframe thead th {\n",
              "        text-align: right;\n",
              "    }\n",
              "</style>\n",
              "<table border=\"1\" class=\"dataframe\">\n",
              "  <thead>\n",
              "    <tr style=\"text-align: right;\">\n",
              "      <th></th>\n",
              "      <th>X0</th>\n",
              "      <th>X1</th>\n",
              "      <th>X2</th>\n",
              "      <th>X3</th>\n",
              "      <th>X4</th>\n",
              "      <th>X5</th>\n",
              "      <th>X6</th>\n",
              "      <th>X7</th>\n",
              "      <th>X8</th>\n",
              "      <th>X9</th>\n",
              "      <th>X10</th>\n",
              "      <th>X11</th>\n",
              "      <th>X12</th>\n",
              "      <th>X13</th>\n",
              "      <th>X14</th>\n",
              "      <th>X15</th>\n",
              "      <th>X16</th>\n",
              "      <th>X17</th>\n",
              "      <th>X18</th>\n",
              "      <th>X19</th>\n",
              "      <th>X20</th>\n",
              "      <th>X21</th>\n",
              "      <th>X22</th>\n",
              "      <th>X23</th>\n",
              "      <th>X24</th>\n",
              "      <th>X25</th>\n",
              "      <th>X26</th>\n",
              "      <th>X27</th>\n",
              "    </tr>\n",
              "  </thead>\n",
              "  <tbody>\n",
              "    <tr>\n",
              "      <th>0</th>\n",
              "      <td>2</td>\n",
              "      <td>1</td>\n",
              "      <td>530101</td>\n",
              "      <td>38.50</td>\n",
              "      <td>66</td>\n",
              "      <td>28</td>\n",
              "      <td>3</td>\n",
              "      <td>3</td>\n",
              "      <td>?</td>\n",
              "      <td>2</td>\n",
              "      <td>5</td>\n",
              "      <td>4</td>\n",
              "      <td>4</td>\n",
              "      <td>?</td>\n",
              "      <td>?</td>\n",
              "      <td>?</td>\n",
              "      <td>3</td>\n",
              "      <td>5</td>\n",
              "      <td>45.00</td>\n",
              "      <td>8.40</td>\n",
              "      <td>?</td>\n",
              "      <td>?</td>\n",
              "      <td>2</td>\n",
              "      <td>2</td>\n",
              "      <td>11300</td>\n",
              "      <td>0</td>\n",
              "      <td>0</td>\n",
              "      <td>2</td>\n",
              "    </tr>\n",
              "    <tr>\n",
              "      <th>1</th>\n",
              "      <td>1</td>\n",
              "      <td>1</td>\n",
              "      <td>534817</td>\n",
              "      <td>39.2</td>\n",
              "      <td>88</td>\n",
              "      <td>20</td>\n",
              "      <td>?</td>\n",
              "      <td>?</td>\n",
              "      <td>4</td>\n",
              "      <td>1</td>\n",
              "      <td>3</td>\n",
              "      <td>4</td>\n",
              "      <td>2</td>\n",
              "      <td>?</td>\n",
              "      <td>?</td>\n",
              "      <td>?</td>\n",
              "      <td>4</td>\n",
              "      <td>2</td>\n",
              "      <td>50</td>\n",
              "      <td>85</td>\n",
              "      <td>2</td>\n",
              "      <td>2</td>\n",
              "      <td>3</td>\n",
              "      <td>2</td>\n",
              "      <td>2208</td>\n",
              "      <td>0</td>\n",
              "      <td>0</td>\n",
              "      <td>2</td>\n",
              "    </tr>\n",
              "    <tr>\n",
              "      <th>2</th>\n",
              "      <td>2</td>\n",
              "      <td>1</td>\n",
              "      <td>530334</td>\n",
              "      <td>38.30</td>\n",
              "      <td>40</td>\n",
              "      <td>24</td>\n",
              "      <td>1</td>\n",
              "      <td>1</td>\n",
              "      <td>3</td>\n",
              "      <td>1</td>\n",
              "      <td>3</td>\n",
              "      <td>3</td>\n",
              "      <td>1</td>\n",
              "      <td>?</td>\n",
              "      <td>?</td>\n",
              "      <td>?</td>\n",
              "      <td>1</td>\n",
              "      <td>1</td>\n",
              "      <td>33.00</td>\n",
              "      <td>6.70</td>\n",
              "      <td>?</td>\n",
              "      <td>?</td>\n",
              "      <td>1</td>\n",
              "      <td>2</td>\n",
              "      <td>0</td>\n",
              "      <td>0</td>\n",
              "      <td>0</td>\n",
              "      <td>1</td>\n",
              "    </tr>\n",
              "    <tr>\n",
              "      <th>3</th>\n",
              "      <td>1</td>\n",
              "      <td>9</td>\n",
              "      <td>5290409</td>\n",
              "      <td>39.10</td>\n",
              "      <td>164</td>\n",
              "      <td>84</td>\n",
              "      <td>4</td>\n",
              "      <td>1</td>\n",
              "      <td>6</td>\n",
              "      <td>2</td>\n",
              "      <td>2</td>\n",
              "      <td>4</td>\n",
              "      <td>4</td>\n",
              "      <td>1</td>\n",
              "      <td>2</td>\n",
              "      <td>5.00</td>\n",
              "      <td>3</td>\n",
              "      <td>?</td>\n",
              "      <td>48.00</td>\n",
              "      <td>7.20</td>\n",
              "      <td>3</td>\n",
              "      <td>5.30</td>\n",
              "      <td>2</td>\n",
              "      <td>1</td>\n",
              "      <td>2208</td>\n",
              "      <td>0</td>\n",
              "      <td>0</td>\n",
              "      <td>1</td>\n",
              "    </tr>\n",
              "    <tr>\n",
              "      <th>4</th>\n",
              "      <td>2</td>\n",
              "      <td>1</td>\n",
              "      <td>530255</td>\n",
              "      <td>37.30</td>\n",
              "      <td>104</td>\n",
              "      <td>35</td>\n",
              "      <td>?</td>\n",
              "      <td>?</td>\n",
              "      <td>6</td>\n",
              "      <td>2</td>\n",
              "      <td>?</td>\n",
              "      <td>?</td>\n",
              "      <td>?</td>\n",
              "      <td>?</td>\n",
              "      <td>?</td>\n",
              "      <td>?</td>\n",
              "      <td>?</td>\n",
              "      <td>?</td>\n",
              "      <td>74.00</td>\n",
              "      <td>7.40</td>\n",
              "      <td>?</td>\n",
              "      <td>?</td>\n",
              "      <td>2</td>\n",
              "      <td>2</td>\n",
              "      <td>4300</td>\n",
              "      <td>0</td>\n",
              "      <td>0</td>\n",
              "      <td>2</td>\n",
              "    </tr>\n",
              "  </tbody>\n",
              "</table>\n",
              "</div>"
            ],
            "text/plain": [
              "  X0  X1       X2     X3   X4  X5 X6  ...   X21 X22 X23    X24 X25 X26 X27\n",
              "0  2   1   530101  38.50   66  28  3  ...     ?   2   2  11300   0   0   2\n",
              "1  1   1   534817   39.2   88  20  ?  ...     2   3   2   2208   0   0   2\n",
              "2  2   1   530334  38.30   40  24  1  ...     ?   1   2      0   0   0   1\n",
              "3  1   9  5290409  39.10  164  84  4  ...  5.30   2   1   2208   0   0   1\n",
              "4  2   1   530255  37.30  104  35  ?  ...     ?   2   2   4300   0   0   2\n",
              "\n",
              "[5 rows x 28 columns]"
            ]
          },
          "metadata": {
            "tags": []
          },
          "execution_count": 4
        }
      ]
    },
    {
      "cell_type": "markdown",
      "metadata": {
        "id": "xm1AqmdGes8z",
        "colab_type": "text"
      },
      "source": [
        "We can see the authors have used the character '?' for missing values but the package pandas thinks it is a normal value as others. We need to transform them into missing values."
      ]
    },
    {
      "cell_type": "markdown",
      "metadata": {
        "id": "AvFU4wJkcGW_",
        "colab_type": "text"
      },
      "source": [
        "5. Reload the dataset into a pandas dataframe using the method .read_csv() but this time add the parameter na_values='?' for specifying this value needs to be treated as a missing value:"
      ]
    },
    {
      "cell_type": "code",
      "metadata": {
        "id": "ASEdozexcGbY",
        "colab_type": "code",
        "colab": {}
      },
      "source": [
        "df = pd.read_csv(file_url, header=None, sep='\\s+', prefix='X', na_values='?')"
      ],
      "execution_count": 0,
      "outputs": []
    },
    {
      "cell_type": "markdown",
      "metadata": {
        "id": "CC6QCXU-cK83",
        "colab_type": "text"
      },
      "source": [
        "6. Print the first 5 rows of the dataframe using the method .head():"
      ]
    },
    {
      "cell_type": "code",
      "metadata": {
        "id": "NLiPeTsPcHpg",
        "colab_type": "code",
        "outputId": "8ec7f21e-0ecc-4b34-fcb8-339de265f024",
        "colab": {
          "base_uri": "https://localhost:8080/",
          "height": 204
        }
      },
      "source": [
        "df.head()"
      ],
      "execution_count": 6,
      "outputs": [
        {
          "output_type": "execute_result",
          "data": {
            "text/html": [
              "<div>\n",
              "<style scoped>\n",
              "    .dataframe tbody tr th:only-of-type {\n",
              "        vertical-align: middle;\n",
              "    }\n",
              "\n",
              "    .dataframe tbody tr th {\n",
              "        vertical-align: top;\n",
              "    }\n",
              "\n",
              "    .dataframe thead th {\n",
              "        text-align: right;\n",
              "    }\n",
              "</style>\n",
              "<table border=\"1\" class=\"dataframe\">\n",
              "  <thead>\n",
              "    <tr style=\"text-align: right;\">\n",
              "      <th></th>\n",
              "      <th>X0</th>\n",
              "      <th>X1</th>\n",
              "      <th>X2</th>\n",
              "      <th>X3</th>\n",
              "      <th>X4</th>\n",
              "      <th>X5</th>\n",
              "      <th>X6</th>\n",
              "      <th>X7</th>\n",
              "      <th>X8</th>\n",
              "      <th>X9</th>\n",
              "      <th>X10</th>\n",
              "      <th>X11</th>\n",
              "      <th>X12</th>\n",
              "      <th>X13</th>\n",
              "      <th>X14</th>\n",
              "      <th>X15</th>\n",
              "      <th>X16</th>\n",
              "      <th>X17</th>\n",
              "      <th>X18</th>\n",
              "      <th>X19</th>\n",
              "      <th>X20</th>\n",
              "      <th>X21</th>\n",
              "      <th>X22</th>\n",
              "      <th>X23</th>\n",
              "      <th>X24</th>\n",
              "      <th>X25</th>\n",
              "      <th>X26</th>\n",
              "      <th>X27</th>\n",
              "    </tr>\n",
              "  </thead>\n",
              "  <tbody>\n",
              "    <tr>\n",
              "      <th>0</th>\n",
              "      <td>2.0</td>\n",
              "      <td>1</td>\n",
              "      <td>530101</td>\n",
              "      <td>38.5</td>\n",
              "      <td>66.0</td>\n",
              "      <td>28.0</td>\n",
              "      <td>3.0</td>\n",
              "      <td>3.0</td>\n",
              "      <td>NaN</td>\n",
              "      <td>2.0</td>\n",
              "      <td>5.0</td>\n",
              "      <td>4.0</td>\n",
              "      <td>4.0</td>\n",
              "      <td>NaN</td>\n",
              "      <td>NaN</td>\n",
              "      <td>NaN</td>\n",
              "      <td>3.0</td>\n",
              "      <td>5.0</td>\n",
              "      <td>45.0</td>\n",
              "      <td>8.4</td>\n",
              "      <td>NaN</td>\n",
              "      <td>NaN</td>\n",
              "      <td>2.0</td>\n",
              "      <td>2</td>\n",
              "      <td>11300</td>\n",
              "      <td>0</td>\n",
              "      <td>0</td>\n",
              "      <td>2</td>\n",
              "    </tr>\n",
              "    <tr>\n",
              "      <th>1</th>\n",
              "      <td>1.0</td>\n",
              "      <td>1</td>\n",
              "      <td>534817</td>\n",
              "      <td>39.2</td>\n",
              "      <td>88.0</td>\n",
              "      <td>20.0</td>\n",
              "      <td>NaN</td>\n",
              "      <td>NaN</td>\n",
              "      <td>4.0</td>\n",
              "      <td>1.0</td>\n",
              "      <td>3.0</td>\n",
              "      <td>4.0</td>\n",
              "      <td>2.0</td>\n",
              "      <td>NaN</td>\n",
              "      <td>NaN</td>\n",
              "      <td>NaN</td>\n",
              "      <td>4.0</td>\n",
              "      <td>2.0</td>\n",
              "      <td>50.0</td>\n",
              "      <td>85.0</td>\n",
              "      <td>2.0</td>\n",
              "      <td>2.0</td>\n",
              "      <td>3.0</td>\n",
              "      <td>2</td>\n",
              "      <td>2208</td>\n",
              "      <td>0</td>\n",
              "      <td>0</td>\n",
              "      <td>2</td>\n",
              "    </tr>\n",
              "    <tr>\n",
              "      <th>2</th>\n",
              "      <td>2.0</td>\n",
              "      <td>1</td>\n",
              "      <td>530334</td>\n",
              "      <td>38.3</td>\n",
              "      <td>40.0</td>\n",
              "      <td>24.0</td>\n",
              "      <td>1.0</td>\n",
              "      <td>1.0</td>\n",
              "      <td>3.0</td>\n",
              "      <td>1.0</td>\n",
              "      <td>3.0</td>\n",
              "      <td>3.0</td>\n",
              "      <td>1.0</td>\n",
              "      <td>NaN</td>\n",
              "      <td>NaN</td>\n",
              "      <td>NaN</td>\n",
              "      <td>1.0</td>\n",
              "      <td>1.0</td>\n",
              "      <td>33.0</td>\n",
              "      <td>6.7</td>\n",
              "      <td>NaN</td>\n",
              "      <td>NaN</td>\n",
              "      <td>1.0</td>\n",
              "      <td>2</td>\n",
              "      <td>0</td>\n",
              "      <td>0</td>\n",
              "      <td>0</td>\n",
              "      <td>1</td>\n",
              "    </tr>\n",
              "    <tr>\n",
              "      <th>3</th>\n",
              "      <td>1.0</td>\n",
              "      <td>9</td>\n",
              "      <td>5290409</td>\n",
              "      <td>39.1</td>\n",
              "      <td>164.0</td>\n",
              "      <td>84.0</td>\n",
              "      <td>4.0</td>\n",
              "      <td>1.0</td>\n",
              "      <td>6.0</td>\n",
              "      <td>2.0</td>\n",
              "      <td>2.0</td>\n",
              "      <td>4.0</td>\n",
              "      <td>4.0</td>\n",
              "      <td>1.0</td>\n",
              "      <td>2.0</td>\n",
              "      <td>5.0</td>\n",
              "      <td>3.0</td>\n",
              "      <td>NaN</td>\n",
              "      <td>48.0</td>\n",
              "      <td>7.2</td>\n",
              "      <td>3.0</td>\n",
              "      <td>5.3</td>\n",
              "      <td>2.0</td>\n",
              "      <td>1</td>\n",
              "      <td>2208</td>\n",
              "      <td>0</td>\n",
              "      <td>0</td>\n",
              "      <td>1</td>\n",
              "    </tr>\n",
              "    <tr>\n",
              "      <th>4</th>\n",
              "      <td>2.0</td>\n",
              "      <td>1</td>\n",
              "      <td>530255</td>\n",
              "      <td>37.3</td>\n",
              "      <td>104.0</td>\n",
              "      <td>35.0</td>\n",
              "      <td>NaN</td>\n",
              "      <td>NaN</td>\n",
              "      <td>6.0</td>\n",
              "      <td>2.0</td>\n",
              "      <td>NaN</td>\n",
              "      <td>NaN</td>\n",
              "      <td>NaN</td>\n",
              "      <td>NaN</td>\n",
              "      <td>NaN</td>\n",
              "      <td>NaN</td>\n",
              "      <td>NaN</td>\n",
              "      <td>NaN</td>\n",
              "      <td>74.0</td>\n",
              "      <td>7.4</td>\n",
              "      <td>NaN</td>\n",
              "      <td>NaN</td>\n",
              "      <td>2.0</td>\n",
              "      <td>2</td>\n",
              "      <td>4300</td>\n",
              "      <td>0</td>\n",
              "      <td>0</td>\n",
              "      <td>2</td>\n",
              "    </tr>\n",
              "  </tbody>\n",
              "</table>\n",
              "</div>"
            ],
            "text/plain": [
              "    X0  X1       X2    X3     X4    X5  ...  X22  X23    X24  X25  X26  X27\n",
              "0  2.0   1   530101  38.5   66.0  28.0  ...  2.0    2  11300    0    0    2\n",
              "1  1.0   1   534817  39.2   88.0  20.0  ...  3.0    2   2208    0    0    2\n",
              "2  2.0   1   530334  38.3   40.0  24.0  ...  1.0    2      0    0    0    1\n",
              "3  1.0   9  5290409  39.1  164.0  84.0  ...  2.0    1   2208    0    0    1\n",
              "4  2.0   1   530255  37.3  104.0  35.0  ...  2.0    2   4300    0    0    2\n",
              "\n",
              "[5 rows x 28 columns]"
            ]
          },
          "metadata": {
            "tags": []
          },
          "execution_count": 6
        }
      ]
    },
    {
      "cell_type": "markdown",
      "metadata": {
        "id": "a0ThXYnwfsmU",
        "colab_type": "text"
      },
      "source": [
        "Now we can see that pandas has converted all values '?' to missing values."
      ]
    },
    {
      "cell_type": "markdown",
      "metadata": {
        "id": "laQfiDF-YLNM",
        "colab_type": "text"
      },
      "source": [
        "7. Print the data type of each variable using the attribute dtypes:"
      ]
    },
    {
      "cell_type": "code",
      "metadata": {
        "id": "Rv1a7YLL63I8",
        "colab_type": "code",
        "outputId": "07ca0e72-1455-4aee-ca26-8cded5f5a99b",
        "colab": {
          "base_uri": "https://localhost:8080/",
          "height": 510
        }
      },
      "source": [
        "df.dtypes"
      ],
      "execution_count": 7,
      "outputs": [
        {
          "output_type": "execute_result",
          "data": {
            "text/plain": [
              "X0     float64\n",
              "X1       int64\n",
              "X2       int64\n",
              "X3     float64\n",
              "X4     float64\n",
              "X5     float64\n",
              "X6     float64\n",
              "X7     float64\n",
              "X8     float64\n",
              "X9     float64\n",
              "X10    float64\n",
              "X11    float64\n",
              "X12    float64\n",
              "X13    float64\n",
              "X14    float64\n",
              "X15    float64\n",
              "X16    float64\n",
              "X17    float64\n",
              "X18    float64\n",
              "X19    float64\n",
              "X20    float64\n",
              "X21    float64\n",
              "X22    float64\n",
              "X23      int64\n",
              "X24      int64\n",
              "X25      int64\n",
              "X26      int64\n",
              "X27      int64\n",
              "dtype: object"
            ]
          },
          "metadata": {
            "tags": []
          },
          "execution_count": 7
        }
      ]
    },
    {
      "cell_type": "markdown",
      "metadata": {
        "id": "YpDujixiYUtJ",
        "colab_type": "text"
      },
      "source": [
        "8. Print the number of missing values for each column by combining the methods .isna() and .sum():"
      ]
    },
    {
      "cell_type": "code",
      "metadata": {
        "id": "q1a8onHi79Z7",
        "colab_type": "code",
        "outputId": "97cfdc09-db71-4000-e694-44f1504b6efe",
        "colab": {
          "base_uri": "https://localhost:8080/",
          "height": 510
        }
      },
      "source": [
        "df.isna().sum()"
      ],
      "execution_count": 8,
      "outputs": [
        {
          "output_type": "execute_result",
          "data": {
            "text/plain": [
              "X0       1\n",
              "X1       0\n",
              "X2       0\n",
              "X3      60\n",
              "X4      24\n",
              "X5      58\n",
              "X6      56\n",
              "X7      69\n",
              "X8      47\n",
              "X9      32\n",
              "X10     55\n",
              "X11     44\n",
              "X12     56\n",
              "X13    104\n",
              "X14    106\n",
              "X15    247\n",
              "X16    102\n",
              "X17    118\n",
              "X18     29\n",
              "X19     33\n",
              "X20    165\n",
              "X21    198\n",
              "X22      1\n",
              "X23      0\n",
              "X24      0\n",
              "X25      0\n",
              "X26      0\n",
              "X27      0\n",
              "dtype: int64"
            ]
          },
          "metadata": {
            "tags": []
          },
          "execution_count": 8
        }
      ]
    },
    {
      "cell_type": "markdown",
      "metadata": {
        "id": "SfkMdBakZU9S",
        "colab_type": "text"
      },
      "source": [
        "9. Create a condition mask called 'x0_mask' for finding the missing values in the column 'X0' using the method .isna():"
      ]
    },
    {
      "cell_type": "code",
      "metadata": {
        "id": "1zTWk7dtBbMe",
        "colab_type": "code",
        "colab": {}
      },
      "source": [
        "x0_mask = df['X0'].isna()"
      ],
      "execution_count": 0,
      "outputs": []
    },
    {
      "cell_type": "markdown",
      "metadata": {
        "id": "H57_8izQaR_0",
        "colab_type": "text"
      },
      "source": [
        "10. Display the number of missing values for this column using the method .sum() on 'x0_mask':"
      ]
    },
    {
      "cell_type": "code",
      "metadata": {
        "id": "apH4JpnGBgNG",
        "colab_type": "code",
        "outputId": "4ca195a3-9d47-42a8-8838-e503240977f6",
        "colab": {
          "base_uri": "https://localhost:8080/",
          "height": 34
        }
      },
      "source": [
        "x0_mask.sum()"
      ],
      "execution_count": 10,
      "outputs": [
        {
          "output_type": "execute_result",
          "data": {
            "text/plain": [
              "1"
            ]
          },
          "metadata": {
            "tags": []
          },
          "execution_count": 10
        }
      ]
    },
    {
      "cell_type": "markdown",
      "metadata": {
        "id": "sl1l4IEWojwr",
        "colab_type": "text"
      },
      "source": [
        "We got the exact same number of missing values for 'X0' as in step 8."
      ]
    },
    {
      "cell_type": "markdown",
      "metadata": {
        "id": "_WvdwLOOa3bJ",
        "colab_type": "text"
      },
      "source": [
        "11. Extract the mean of 'X0' using the method '.median()' and store it in a new variable called x0_median. Print its value:"
      ]
    },
    {
      "cell_type": "code",
      "metadata": {
        "id": "I0wuvkFHBlml",
        "colab_type": "code",
        "outputId": "ec35f041-542e-4c6d-e224-fa346cd11807",
        "colab": {
          "base_uri": "https://localhost:8080/",
          "height": 34
        }
      },
      "source": [
        "x0_median = df['X0'].median()\n",
        "print(x0_median)"
      ],
      "execution_count": 11,
      "outputs": [
        {
          "output_type": "stream",
          "text": [
            "1.0\n"
          ],
          "name": "stdout"
        }
      ]
    },
    {
      "cell_type": "markdown",
      "metadata": {
        "id": "7ATDFRTnbC0B",
        "colab_type": "text"
      },
      "source": [
        "The median value for this column is 1. We will replace all missing values by this value in the column 'X0'."
      ]
    },
    {
      "cell_type": "markdown",
      "metadata": {
        "id": "KBpzUxsEbNXk",
        "colab_type": "text"
      },
      "source": [
        "12. Replace all missing values from the variable 'X0' with its median using the method '.fillna()' with the parameter 'inplace=True': "
      ]
    },
    {
      "cell_type": "code",
      "metadata": {
        "id": "Q_m65ZKLB-jx",
        "colab_type": "code",
        "colab": {}
      },
      "source": [
        "df['X0'].fillna(x0_median, inplace=True)"
      ],
      "execution_count": 0,
      "outputs": []
    },
    {
      "cell_type": "markdown",
      "metadata": {
        "id": "YcelsCuRcMCM",
        "colab_type": "text"
      },
      "source": [
        "13. Print the number of missing values for 'X0' by combining the methods .isna() and .sum():"
      ]
    },
    {
      "cell_type": "code",
      "metadata": {
        "id": "Jr6BfU45CDQw",
        "colab_type": "code",
        "outputId": "28dc2c86-e858-42be-f662-6c2b609871a8",
        "colab": {
          "base_uri": "https://localhost:8080/",
          "height": 34
        }
      },
      "source": [
        "df['X0'].isna().sum()"
      ],
      "execution_count": 13,
      "outputs": [
        {
          "output_type": "execute_result",
          "data": {
            "text/plain": [
              "0"
            ]
          },
          "metadata": {
            "tags": []
          },
          "execution_count": 13
        }
      ]
    },
    {
      "cell_type": "markdown",
      "metadata": {
        "id": "7ACnGm6pcUsn",
        "colab_type": "text"
      },
      "source": [
        "Perfect! There is no mising value anymore in the variable."
      ]
    },
    {
      "cell_type": "markdown",
      "metadata": {
        "id": "d9yMwAtTct5M",
        "colab_type": "text"
      },
      "source": [
        "14. Create a for loop that will iterate through all the columns of the dataframe. In the for loop, calculate the median for each of them and save it into a variable called 'col_median', impute missing values with this median value using the method '.fillna()' with the parameter 'inplace=True', print the name of the column and its median value:"
      ]
    },
    {
      "cell_type": "code",
      "metadata": {
        "id": "MH3Qd9LIHeKF",
        "colab_type": "code",
        "outputId": "c2c4e950-1615-4d55-8730-d8b64599e700",
        "colab": {
          "base_uri": "https://localhost:8080/",
          "height": 969
        }
      },
      "source": [
        "for col_name in df.columns:\n",
        "  col_median = df[col_name].median()\n",
        "  df[col_name].fillna(col_median, inplace=True)\n",
        "  print(col_name)\n",
        "  print(col_median)"
      ],
      "execution_count": 14,
      "outputs": [
        {
          "output_type": "stream",
          "text": [
            "X0\n",
            "1.0\n",
            "X1\n",
            "1.0\n",
            "X2\n",
            "530305.5\n",
            "X3\n",
            "38.2\n",
            "X4\n",
            "64.0\n",
            "X5\n",
            "24.5\n",
            "X6\n",
            "3.0\n",
            "X7\n",
            "2.0\n",
            "X8\n",
            "3.0\n",
            "X9\n",
            "1.0\n",
            "X10\n",
            "3.0\n",
            "X11\n",
            "3.0\n",
            "X12\n",
            "2.0\n",
            "X13\n",
            "2.0\n",
            "X14\n",
            "1.0\n",
            "X15\n",
            "5.0\n",
            "X16\n",
            "3.0\n",
            "X17\n",
            "4.0\n",
            "X18\n",
            "45.0\n",
            "X19\n",
            "7.5\n",
            "X20\n",
            "2.0\n",
            "X21\n",
            "2.25\n",
            "X22\n",
            "1.0\n",
            "X23\n",
            "1.0\n",
            "X24\n",
            "2673.5\n",
            "X25\n",
            "0.0\n",
            "X26\n",
            "0.0\n",
            "X27\n",
            "2.0\n"
          ],
          "name": "stdout"
        }
      ]
    },
    {
      "cell_type": "markdown",
      "metadata": {
        "id": "Y7IzimWUcve5",
        "colab_type": "text"
      },
      "source": [
        "15. Print the number of missing values for each column by combining the methods .isna() and .sum():"
      ]
    },
    {
      "cell_type": "code",
      "metadata": {
        "id": "T-CLjjkVHrfq",
        "colab_type": "code",
        "outputId": "9a5e1d2b-41c0-4c79-d9c7-d0c319a80fea",
        "colab": {
          "base_uri": "https://localhost:8080/",
          "height": 510
        }
      },
      "source": [
        "df.isna().sum()"
      ],
      "execution_count": 15,
      "outputs": [
        {
          "output_type": "execute_result",
          "data": {
            "text/plain": [
              "X0     0\n",
              "X1     0\n",
              "X2     0\n",
              "X3     0\n",
              "X4     0\n",
              "X5     0\n",
              "X6     0\n",
              "X7     0\n",
              "X8     0\n",
              "X9     0\n",
              "X10    0\n",
              "X11    0\n",
              "X12    0\n",
              "X13    0\n",
              "X14    0\n",
              "X15    0\n",
              "X16    0\n",
              "X17    0\n",
              "X18    0\n",
              "X19    0\n",
              "X20    0\n",
              "X21    0\n",
              "X22    0\n",
              "X23    0\n",
              "X24    0\n",
              "X25    0\n",
              "X26    0\n",
              "X27    0\n",
              "dtype: int64"
            ]
          },
          "metadata": {
            "tags": []
          },
          "execution_count": 15
        }
      ]
    },
    {
      "cell_type": "markdown",
      "metadata": {
        "id": "atxqPoO5YLrr",
        "colab_type": "text"
      },
      "source": [
        "Well done in completing this exercise! We have successfully fixed the missing values for all the numerical variables using the methods provided by the package pandas: .isna() and .fillna()."
      ]
    }
  ]
}