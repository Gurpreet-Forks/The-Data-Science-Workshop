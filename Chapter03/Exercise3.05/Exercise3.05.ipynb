{
  "nbformat": 4,
  "nbformat_minor": 0,
  "metadata": {
    "colab": {
      "name": "Exercise 3.5",
      "provenance": []
    },
    "kernelspec": {
      "name": "python3",
      "display_name": "Python 3"
    }
  },
  "cells": [
    {
      "cell_type": "code",
      "metadata": {
        "id": "AyJD7XHo0MNU",
        "colab_type": "code",
        "colab": {
          "base_uri": "https://localhost:8080/",
          "height": 122
        },
        "outputId": "f06afff5-5193-4729-f4a7-d15c79ef3751"
      },
      "source": [
        "from google.colab import drive\n",
        "drive.mount('/content/drive')"
      ],
      "execution_count": 1,
      "outputs": [
        {
          "output_type": "stream",
          "text": [
            "Go to this URL in a browser: https://accounts.google.com/o/oauth2/auth?client_id=947318989803-6bn6qk8qdgf4n4g3pfee6491hc0brc4i.apps.googleusercontent.com&redirect_uri=urn%3Aietf%3Awg%3Aoauth%3A2.0%3Aoob&scope=email%20https%3A%2F%2Fwww.googleapis.com%2Fauth%2Fdocs.test%20https%3A%2F%2Fwww.googleapis.com%2Fauth%2Fdrive%20https%3A%2F%2Fwww.googleapis.com%2Fauth%2Fdrive.photos.readonly%20https%3A%2F%2Fwww.googleapis.com%2Fauth%2Fpeopleapi.readonly&response_type=code\n",
            "\n",
            "Enter your authorization code:\n",
            "··········\n",
            "Mounted at /content/drive\n"
          ],
          "name": "stdout"
        }
      ]
    },
    {
      "cell_type": "code",
      "metadata": {
        "id": "DKFusglj0lM_",
        "colab_type": "code",
        "colab": {
          "base_uri": "https://localhost:8080/",
          "height": 921
        },
        "outputId": "c9fa5a0e-eef6-44be-f4f6-e163521c31f9"
      },
      "source": [
        "# Installing the necessary packages\n",
        "!pip install dfply\n",
        "!pip install ggplot\n",
        "!pip install pandas==0.19.2"
      ],
      "execution_count": 1,
      "outputs": [
        {
          "output_type": "stream",
          "text": [
            "Collecting dfply\n",
            "\u001b[?25l  Downloading https://files.pythonhosted.org/packages/53/91/18ab48c64661252dadff685f8ddbc6f456302923918f488714ee2345d49b/dfply-0.3.3-py3-none-any.whl (612kB)\n",
            "\r\u001b[K     |▌                               | 10kB 14.8MB/s eta 0:00:01\r\u001b[K     |█                               | 20kB 6.7MB/s eta 0:00:01\r\u001b[K     |█▋                              | 30kB 9.2MB/s eta 0:00:01\r\u001b[K     |██▏                             | 40kB 5.9MB/s eta 0:00:01\r\u001b[K     |██▊                             | 51kB 7.1MB/s eta 0:00:01\r\u001b[K     |███▏                            | 61kB 8.3MB/s eta 0:00:01\r\u001b[K     |███▊                            | 71kB 9.4MB/s eta 0:00:01\r\u001b[K     |████▎                           | 81kB 10.5MB/s eta 0:00:01\r\u001b[K     |████▉                           | 92kB 11.6MB/s eta 0:00:01\r\u001b[K     |█████▍                          | 102kB 9.4MB/s eta 0:00:01\r\u001b[K     |█████▉                          | 112kB 9.4MB/s eta 0:00:01\r\u001b[K     |██████▍                         | 122kB 9.4MB/s eta 0:00:01\r\u001b[K     |███████                         | 133kB 9.4MB/s eta 0:00:01\r\u001b[K     |███████▌                        | 143kB 9.4MB/s eta 0:00:01\r\u001b[K     |████████                        | 153kB 9.4MB/s eta 0:00:01\r\u001b[K     |████████▋                       | 163kB 9.4MB/s eta 0:00:01\r\u001b[K     |█████████                       | 174kB 9.4MB/s eta 0:00:01\r\u001b[K     |█████████▋                      | 184kB 9.4MB/s eta 0:00:01\r\u001b[K     |██████████▏                     | 194kB 9.4MB/s eta 0:00:01\r\u001b[K     |██████████▊                     | 204kB 9.4MB/s eta 0:00:01\r\u001b[K     |███████████▎                    | 215kB 9.4MB/s eta 0:00:01\r\u001b[K     |███████████▊                    | 225kB 9.4MB/s eta 0:00:01\r\u001b[K     |████████████▎                   | 235kB 9.4MB/s eta 0:00:01\r\u001b[K     |████████████▉                   | 245kB 9.4MB/s eta 0:00:01\r\u001b[K     |█████████████▍                  | 256kB 9.4MB/s eta 0:00:01\r\u001b[K     |██████████████                  | 266kB 9.4MB/s eta 0:00:01\r\u001b[K     |██████████████▌                 | 276kB 9.4MB/s eta 0:00:01\r\u001b[K     |███████████████                 | 286kB 9.4MB/s eta 0:00:01\r\u001b[K     |███████████████▌                | 296kB 9.4MB/s eta 0:00:01\r\u001b[K     |████████████████                | 307kB 9.4MB/s eta 0:00:01\r\u001b[K     |████████████████▋               | 317kB 9.4MB/s eta 0:00:01\r\u001b[K     |█████████████████▏              | 327kB 9.4MB/s eta 0:00:01\r\u001b[K     |█████████████████▋              | 337kB 9.4MB/s eta 0:00:01\r\u001b[K     |██████████████████▏             | 348kB 9.4MB/s eta 0:00:01\r\u001b[K     |██████████████████▊             | 358kB 9.4MB/s eta 0:00:01\r\u001b[K     |███████████████████▎            | 368kB 9.4MB/s eta 0:00:01\r\u001b[K     |███████████████████▉            | 378kB 9.4MB/s eta 0:00:01\r\u001b[K     |████████████████████▎           | 389kB 9.4MB/s eta 0:00:01\r\u001b[K     |████████████████████▉           | 399kB 9.4MB/s eta 0:00:01\r\u001b[K     |█████████████████████▍          | 409kB 9.4MB/s eta 0:00:01\r\u001b[K     |██████████████████████          | 419kB 9.4MB/s eta 0:00:01\r\u001b[K     |██████████████████████▌         | 430kB 9.4MB/s eta 0:00:01\r\u001b[K     |███████████████████████         | 440kB 9.4MB/s eta 0:00:01\r\u001b[K     |███████████████████████▌        | 450kB 9.4MB/s eta 0:00:01\r\u001b[K     |████████████████████████        | 460kB 9.4MB/s eta 0:00:01\r\u001b[K     |████████████████████████▋       | 471kB 9.4MB/s eta 0:00:01\r\u001b[K     |█████████████████████████▏      | 481kB 9.4MB/s eta 0:00:01\r\u001b[K     |█████████████████████████▊      | 491kB 9.4MB/s eta 0:00:01\r\u001b[K     |██████████████████████████▏     | 501kB 9.4MB/s eta 0:00:01\r\u001b[K     |██████████████████████████▊     | 512kB 9.4MB/s eta 0:00:01\r\u001b[K     |███████████████████████████▎    | 522kB 9.4MB/s eta 0:00:01\r\u001b[K     |███████████████████████████▉    | 532kB 9.4MB/s eta 0:00:01\r\u001b[K     |████████████████████████████▍   | 542kB 9.4MB/s eta 0:00:01\r\u001b[K     |█████████████████████████████   | 552kB 9.4MB/s eta 0:00:01\r\u001b[K     |█████████████████████████████▍  | 563kB 9.4MB/s eta 0:00:01\r\u001b[K     |██████████████████████████████  | 573kB 9.4MB/s eta 0:00:01\r\u001b[K     |██████████████████████████████▌ | 583kB 9.4MB/s eta 0:00:01\r\u001b[K     |███████████████████████████████ | 593kB 9.4MB/s eta 0:00:01\r\u001b[K     |███████████████████████████████▋| 604kB 9.4MB/s eta 0:00:01\r\u001b[K     |████████████████████████████████| 614kB 9.4MB/s \n",
            "\u001b[?25hRequirement already satisfied: numpy in /usr/local/lib/python3.6/dist-packages (from dfply) (1.16.5)\n",
            "Requirement already satisfied: pandas in /usr/local/lib/python3.6/dist-packages (from dfply) (0.24.2)\n",
            "Requirement already satisfied: pytz>=2011k in /usr/local/lib/python3.6/dist-packages (from pandas->dfply) (2018.9)\n",
            "Requirement already satisfied: python-dateutil>=2.5.0 in /usr/local/lib/python3.6/dist-packages (from pandas->dfply) (2.5.3)\n",
            "Requirement already satisfied: six>=1.5 in /usr/local/lib/python3.6/dist-packages (from python-dateutil>=2.5.0->pandas->dfply) (1.12.0)\n",
            "Installing collected packages: dfply\n",
            "Successfully installed dfply-0.3.3\n",
            "Collecting ggplot\n",
            "\u001b[?25l  Downloading https://files.pythonhosted.org/packages/48/04/5c88cc51c6713583f2dc78a5296adb9741505348c323d5875bc976143db2/ggplot-0.11.5-py2.py3-none-any.whl (2.2MB)\n",
            "\u001b[K     |████████████████████████████████| 2.2MB 8.7MB/s \n",
            "\u001b[?25hRequirement already satisfied: scipy in /usr/local/lib/python3.6/dist-packages (from ggplot) (1.3.1)\n",
            "Requirement already satisfied: pandas in /usr/local/lib/python3.6/dist-packages (from ggplot) (0.24.2)\n",
            "Requirement already satisfied: patsy>=0.4 in /usr/local/lib/python3.6/dist-packages (from ggplot) (0.5.1)\n",
            "Requirement already satisfied: matplotlib in /usr/local/lib/python3.6/dist-packages (from ggplot) (3.0.3)\n",
            "Requirement already satisfied: cycler in /usr/local/lib/python3.6/dist-packages (from ggplot) (0.10.0)\n",
            "Requirement already satisfied: statsmodels in /usr/local/lib/python3.6/dist-packages (from ggplot) (0.10.1)\n",
            "Requirement already satisfied: numpy in /usr/local/lib/python3.6/dist-packages (from ggplot) (1.16.5)\n",
            "Requirement already satisfied: six in /usr/local/lib/python3.6/dist-packages (from ggplot) (1.12.0)\n",
            "Collecting brewer2mpl (from ggplot)\n",
            "  Downloading https://files.pythonhosted.org/packages/84/57/00c45a199719e617db0875181134fcb3aeef701deae346547ac722eaaf5e/brewer2mpl-1.4.1-py2.py3-none-any.whl\n",
            "Requirement already satisfied: python-dateutil>=2.5.0 in /usr/local/lib/python3.6/dist-packages (from pandas->ggplot) (2.5.3)\n",
            "Requirement already satisfied: pytz>=2011k in /usr/local/lib/python3.6/dist-packages (from pandas->ggplot) (2018.9)\n",
            "Requirement already satisfied: kiwisolver>=1.0.1 in /usr/local/lib/python3.6/dist-packages (from matplotlib->ggplot) (1.1.0)\n",
            "Requirement already satisfied: pyparsing!=2.0.4,!=2.1.2,!=2.1.6,>=2.0.1 in /usr/local/lib/python3.6/dist-packages (from matplotlib->ggplot) (2.4.2)\n",
            "Requirement already satisfied: setuptools in /usr/local/lib/python3.6/dist-packages (from kiwisolver>=1.0.1->matplotlib->ggplot) (41.2.0)\n",
            "Installing collected packages: brewer2mpl, ggplot\n",
            "Successfully installed brewer2mpl-1.4.1 ggplot-0.11.5\n",
            "Collecting pandas==0.19.2\n",
            "\u001b[?25l  Downloading https://files.pythonhosted.org/packages/f1/33/b455d0af521b76b1982eac1ed1c30c9e67f9885f54c3349aef0b0c547d85/pandas-0.19.2-cp36-cp36m-manylinux1_x86_64.whl (18.9MB)\n",
            "\u001b[K     |████████████████████████████████| 18.9MB 9.4MB/s \n",
            "\u001b[?25hRequirement already satisfied: numpy>=1.7.0 in /usr/local/lib/python3.6/dist-packages (from pandas==0.19.2) (1.16.5)\n",
            "Requirement already satisfied: pytz>=2011k in /usr/local/lib/python3.6/dist-packages (from pandas==0.19.2) (2018.9)\n",
            "Requirement already satisfied: python-dateutil>=2 in /usr/local/lib/python3.6/dist-packages (from pandas==0.19.2) (2.5.3)\n",
            "Requirement already satisfied: six>=1.5 in /usr/local/lib/python3.6/dist-packages (from python-dateutil>=2->pandas==0.19.2) (1.12.0)\n",
            "\u001b[31mERROR: plotnine 0.5.1 has requirement pandas>=0.23.4, but you'll have pandas 0.19.2 which is incompatible.\u001b[0m\n",
            "\u001b[31mERROR: mizani 0.5.4 has requirement pandas>=0.23.4, but you'll have pandas 0.19.2 which is incompatible.\u001b[0m\n",
            "\u001b[31mERROR: google-colab 1.0.0 has requirement pandas~=0.24.0, but you'll have pandas 0.19.2 which is incompatible.\u001b[0m\n",
            "\u001b[31mERROR: featuretools 0.4.1 has requirement pandas>=0.23.0, but you'll have pandas 0.19.2 which is incompatible.\u001b[0m\n",
            "\u001b[31mERROR: fbprophet 0.5 has requirement pandas>=0.23.4, but you'll have pandas 0.19.2 which is incompatible.\u001b[0m\n",
            "Installing collected packages: pandas\n",
            "  Found existing installation: pandas 0.24.2\n",
            "    Uninstalling pandas-0.24.2:\n",
            "      Successfully uninstalled pandas-0.24.2\n",
            "Successfully installed pandas-0.19.2\n"
          ],
          "name": "stdout"
        },
        {
          "output_type": "display_data",
          "data": {
            "application/vnd.colab-display-data+json": {
              "pip_warning": {
                "packages": [
                  "pandas"
                ]
              }
            }
          },
          "metadata": {
            "tags": []
          }
        }
      ]
    },
    {
      "cell_type": "code",
      "metadata": {
        "id": "7snjzmu20p05",
        "colab_type": "code",
        "colab": {}
      },
      "source": [
        "#Loading data from the google drive to colab notebook\n",
        "\n",
        "# Please change the filename as per the location where the file is stored\n",
        "\n",
        "filename = '/content/drive/My Drive/Packt_Colab/bank-full.csv'"
      ],
      "execution_count": 0,
      "outputs": []
    },
    {
      "cell_type": "code",
      "metadata": {
        "id": "8UMFqsCD0xyF",
        "colab_type": "code",
        "colab": {}
      },
      "source": [
        "# Importing necessary packages\n",
        "from dfply import *\n",
        "from ggplot import *"
      ],
      "execution_count": 0,
      "outputs": []
    },
    {
      "cell_type": "code",
      "metadata": {
        "id": "HSXgY0ze09cY",
        "colab_type": "code",
        "colab": {}
      },
      "source": [
        "bankData = pd.read_csv(filename,sep=\";\")"
      ],
      "execution_count": 0,
      "outputs": []
    },
    {
      "cell_type": "code",
      "metadata": {
        "id": "NiRh58PlaJoZ",
        "colab_type": "code",
        "colab": {}
      },
      "source": [
        "from pandas import set_option"
      ],
      "execution_count": 0,
      "outputs": []
    },
    {
      "cell_type": "code",
      "metadata": {
        "id": "9wn-4MiPabSL",
        "colab_type": "code",
        "colab": {}
      },
      "source": [
        "bankNumeric = bankData[['age','balance','day','duration','campaign','pdays','previous']]"
      ],
      "execution_count": 0,
      "outputs": []
    },
    {
      "cell_type": "code",
      "metadata": {
        "id": "deI0ALoiaL3i",
        "colab_type": "code",
        "colab": {
          "base_uri": "https://localhost:8080/",
          "height": 266
        },
        "outputId": "9968efb2-bd1a-4941-f371-e621935a9663"
      },
      "source": [
        "\n",
        "set_option('display.width',150)\n",
        "set_option('precision',3)\n",
        "bankCorr = bankNumeric.corr(method = 'pearson')\n",
        "bankCorr"
      ],
      "execution_count": 8,
      "outputs": [
        {
          "output_type": "execute_result",
          "data": {
            "text/html": [
              "<div>\n",
              "<table border=\"1\" class=\"dataframe\">\n",
              "  <thead>\n",
              "    <tr style=\"text-align: right;\">\n",
              "      <th></th>\n",
              "      <th>age</th>\n",
              "      <th>balance</th>\n",
              "      <th>day</th>\n",
              "      <th>duration</th>\n",
              "      <th>campaign</th>\n",
              "      <th>pdays</th>\n",
              "      <th>previous</th>\n",
              "    </tr>\n",
              "  </thead>\n",
              "  <tbody>\n",
              "    <tr>\n",
              "      <th>age</th>\n",
              "      <td>1.000</td>\n",
              "      <td>0.098</td>\n",
              "      <td>-0.009</td>\n",
              "      <td>-0.005</td>\n",
              "      <td>0.005</td>\n",
              "      <td>-0.024</td>\n",
              "      <td>0.001</td>\n",
              "    </tr>\n",
              "    <tr>\n",
              "      <th>balance</th>\n",
              "      <td>0.098</td>\n",
              "      <td>1.000</td>\n",
              "      <td>0.005</td>\n",
              "      <td>0.022</td>\n",
              "      <td>-0.015</td>\n",
              "      <td>0.003</td>\n",
              "      <td>0.017</td>\n",
              "    </tr>\n",
              "    <tr>\n",
              "      <th>day</th>\n",
              "      <td>-0.009</td>\n",
              "      <td>0.005</td>\n",
              "      <td>1.000</td>\n",
              "      <td>-0.030</td>\n",
              "      <td>0.162</td>\n",
              "      <td>-0.093</td>\n",
              "      <td>-0.052</td>\n",
              "    </tr>\n",
              "    <tr>\n",
              "      <th>duration</th>\n",
              "      <td>-0.005</td>\n",
              "      <td>0.022</td>\n",
              "      <td>-0.030</td>\n",
              "      <td>1.000</td>\n",
              "      <td>-0.085</td>\n",
              "      <td>-0.002</td>\n",
              "      <td>0.001</td>\n",
              "    </tr>\n",
              "    <tr>\n",
              "      <th>campaign</th>\n",
              "      <td>0.005</td>\n",
              "      <td>-0.015</td>\n",
              "      <td>0.162</td>\n",
              "      <td>-0.085</td>\n",
              "      <td>1.000</td>\n",
              "      <td>-0.089</td>\n",
              "      <td>-0.033</td>\n",
              "    </tr>\n",
              "    <tr>\n",
              "      <th>pdays</th>\n",
              "      <td>-0.024</td>\n",
              "      <td>0.003</td>\n",
              "      <td>-0.093</td>\n",
              "      <td>-0.002</td>\n",
              "      <td>-0.089</td>\n",
              "      <td>1.000</td>\n",
              "      <td>0.455</td>\n",
              "    </tr>\n",
              "    <tr>\n",
              "      <th>previous</th>\n",
              "      <td>0.001</td>\n",
              "      <td>0.017</td>\n",
              "      <td>-0.052</td>\n",
              "      <td>0.001</td>\n",
              "      <td>-0.033</td>\n",
              "      <td>0.455</td>\n",
              "      <td>1.000</td>\n",
              "    </tr>\n",
              "  </tbody>\n",
              "</table>\n",
              "</div>"
            ],
            "text/plain": [
              "            age  balance    day  duration  campaign  pdays  previous\n",
              "age       1.000    0.098 -0.009    -0.005     0.005 -0.024     0.001\n",
              "balance   0.098    1.000  0.005     0.022    -0.015  0.003     0.017\n",
              "day      -0.009    0.005  1.000    -0.030     0.162 -0.093    -0.052\n",
              "duration -0.005    0.022 -0.030     1.000    -0.085 -0.002     0.001\n",
              "campaign  0.005   -0.015  0.162    -0.085     1.000 -0.089    -0.033\n",
              "pdays    -0.024    0.003 -0.093    -0.002    -0.089  1.000     0.455\n",
              "previous  0.001    0.017 -0.052     0.001    -0.033  0.455     1.000"
            ]
          },
          "metadata": {
            "tags": []
          },
          "execution_count": 8
        }
      ]
    },
    {
      "cell_type": "code",
      "metadata": {
        "id": "F8JT-MtWb6eY",
        "colab_type": "code",
        "colab": {
          "base_uri": "https://localhost:8080/",
          "height": 271
        },
        "outputId": "8ab75e85-e755-4273-eff7-4910a92aa352"
      },
      "source": [
        "# Plotting the correlation matrix\n",
        "\n",
        "from matplotlib import pyplot\n",
        "\n",
        "corFig = pyplot.figure()\n",
        "figAxis = corFig.add_subplot(111)\n",
        "corAx = figAxis.matshow(bankCorr,vmin=-1,vmax=1)\n",
        "corFig.colorbar(corAx)\n",
        "pyplot.show()"
      ],
      "execution_count": 9,
      "outputs": [
        {
          "output_type": "display_data",
          "data": {
            "image/png": "[encoded data removed]",
            "text/plain": [
              "<Figure size 432x288 with 2 Axes>"
            ]
          },
          "metadata": {
            "tags": []
          }
        }
      ]
    }
  ]
}